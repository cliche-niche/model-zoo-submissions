{
  "nbformat": 4,
  "nbformat_minor": 0,
  "metadata": {
    "colab": {
      "name": "RepVGG.ipynb",
      "provenance": [],
      "collapsed_sections": [],
      "authorship_tag": "ABX9TyMaZGMN/vlVlXkB7U6GI+T4",
      "include_colab_link": true
    },
    "kernelspec": {
      "name": "python3",
      "display_name": "Python 3"
    },
    "language_info": {
      "name": "python"
    },
    "accelerator": "GPU"
  },
  "cells": [
    {
      "cell_type": "markdown",
      "metadata": {
        "id": "view-in-github",
        "colab_type": "text"
      },
      "source": [
        "<a href=\"https://colab.research.google.com/github/cliche-niche/model-zoo-submissions/blob/main/RepVGG/RepVGG(2).ipynb\" target=\"_parent\"><img src=\"https://colab.research.google.com/assets/colab-badge.svg\" alt=\"Open In Colab\"/></a>"
      ]
    },
    {
      "cell_type": "markdown",
      "metadata": {
        "id": "PgJw8Ur4FyRt"
      },
      "source": [
        "An implementation of [RepVGG](https://arxiv.org/pdf/2101.03697.pdf), A0 architecture. It tests upon CIFAR-10 dataset."
      ]
    },
    {
      "cell_type": "code",
      "metadata": {
        "id": "Z_0Z-KOiQQiZ"
      },
      "source": [
        "import tensorflow as tf\n",
        "import numpy as np\n",
        "from tensorflow.keras import layers\n",
        "from tensorflow.keras import activations\n",
        "from tensorflow.keras import regularizers"
      ],
      "execution_count": 1,
      "outputs": []
    },
    {
      "cell_type": "markdown",
      "metadata": {
        "id": "Z8GJ6Uu5GPvM"
      },
      "source": [
        "Loading the data, subtracting the mean, and applying horizontal flip augmentation."
      ]
    },
    {
      "cell_type": "code",
      "metadata": {
        "id": "hKKmidni4-1P"
      },
      "source": [
        "(trainIm, trainLab), (testIm, testLab) = tf.keras.datasets.cifar10.load_data()\n",
        "trainIm = trainIm / 255.0\n",
        "testIm = testIm / 255.0\n",
        "\n",
        "trainImMean = np.mean(trainIm, axis=0)\n",
        "trainIm -= trainImMean\n",
        "testIm -= trainImMean\n",
        "\n",
        "\n",
        "trainLab = tf.keras.utils.to_categorical(trainLab, 10)\n",
        "testLab = tf.keras.utils.to_categorical(testLab, 10)"
      ],
      "execution_count": 2,
      "outputs": []
    },
    {
      "cell_type": "markdown",
      "metadata": {
        "id": "enp3_YqzGam9"
      },
      "source": [
        "Code of a single stage.\n",
        "\n",
        "The first layer of a stage down-samples the input using 3x3 convolutions (stride=2, padding=1) and 1x1 convolutions (stride=2, no padding), adds them and applies ReLU activation on their sum.\n",
        "\n",
        "The rest of the layers use 3x3 conv (stride=1, padding=1), 1x1 conv (stride=1, no padding). Then the output of these layers is added along with an identity, and ReLU activation is applied.\n",
        "\n",
        "At the end of a stage, BatchNormalization is applied."
      ]
    },
    {
      "cell_type": "code",
      "metadata": {
        "id": "eGh7_jQ8QWU_"
      },
      "source": [
        "class stage(layers.Layer):\n",
        "    def __init__(self, filters, layer):\n",
        "        super(stage, self).__init__()\n",
        "        self.dow3 = layers.Conv2D(filters, kernel_size=3, strides=2, padding='same', kernel_regularizer=regularizers.l2(1e-4))\n",
        "        self.dow1 = layers.Conv2D(filters, kernel_size=1, strides=2, kernel_regularizer=regularizers.l2(1e-4))\n",
        "        self.con3 = layers.Conv2D(filters, kernel_size=3, padding='same', kernel_regularizer=regularizers.l2(1e-4))\n",
        "        self.con1 = layers.Conv2D(filters, kernel_size=1, padding='same', kernel_regularizer=regularizers.l2(1e-4))\n",
        "        self.bn = layers.BatchNormalization()\n",
        "        self.re = layers.Activation(activations.relu)\n",
        "        self.lay = layer\n",
        "\n",
        "    def call(self, inp):\n",
        "        x = self.dow3(inp)\n",
        "        y = self.dow1(inp)\n",
        "        x = x + y\n",
        "        x = self.re(x)\n",
        "        for i in range(self.lay-1):\n",
        "            y = self.con3(x)\n",
        "            z = self.con1(x)\n",
        "            x = x + y + z\n",
        "            x = self.re(x)\n",
        "        x = self.bn(x)\n",
        "        return x\n"
      ],
      "execution_count": 3,
      "outputs": []
    },
    {
      "cell_type": "markdown",
      "metadata": {
        "id": "MLecV01XIJHH"
      },
      "source": [
        "An implementation of RepVGG-A0 model. 5 stages are used with widths `[min(64, 64a), 64a, 128a, 256a, 512b]` and number of layers `[1, 2, 4, 14, 1]` respectively, and `a=0.75` and `b=2.5`. The 5 stages are then followed by GlobalAveragePooling layer and a fully connected layer with 10 channels (for CIFAR-10)."
      ]
    },
    {
      "cell_type": "code",
      "metadata": {
        "id": "p-xaOXuDY--k"
      },
      "source": [
        "class repvgg(tf.keras.Model):\n",
        "    def __init__(self, a, b, l=[1,2,4,14,1]):\n",
        "        super(repvgg, self).__init__()\n",
        "        self.aug = tf.keras.Sequential([\n",
        "            layers.experimental.preprocessing.RandomCrop(32, 32),\n",
        "            layers.experimental.preprocessing.RandomFlip(\"horizontal_and_vertical\"),\n",
        "            ])\n",
        "        self.st1 = stage(min(64, 64*a), 1)\n",
        "        self.st2 = stage(64*a, 2)\n",
        "        self.st3 = stage(128*a, 4)\n",
        "        self.st4 = stage(256*a, 14)\n",
        "        self.st5 = stage(512*b, 1)\n",
        "        self.gap = layers.GlobalAveragePooling2D()\n",
        "        self.end = layers.Dense(10, activation=\"softmax\", kernel_regularizer=regularizers.l2(1e-4))\n",
        "        \n",
        "\n",
        "    def call(self, inp):\n",
        "        x = self.aug(inp)\n",
        "        x = self.st1(x)\n",
        "        x = self.st2(x)\n",
        "        x = self.st3(x)\n",
        "        x = self.st4(x)\n",
        "        x = self.st5(x)\n",
        "        x = self.gap(x)\n",
        "        x = self.end(x)\n",
        "\n",
        "        return x\n",
        "\n",
        "\n",
        "    def model(self, train):\n",
        "        x = layers.Input(shape=train[0].shape)\n",
        "        return tf.keras.Model(inputs=x, outputs=self.call(x))"
      ],
      "execution_count": 4,
      "outputs": []
    },
    {
      "cell_type": "code",
      "metadata": {
        "id": "RqZ1c2ryZVMN"
      },
      "source": [
        "model = repvgg(a=0.75, b=2.5)\n",
        "model.compile(  optimizer = tf.keras.optimizers.Adam(),\n",
        "                loss = 'categorical_crossentropy',\n",
        "                metrics = ['accuracy'])"
      ],
      "execution_count": 5,
      "outputs": []
    },
    {
      "cell_type": "code",
      "metadata": {
        "id": "x1ffr9yTDjd-"
      },
      "source": [
        "#For callbacks\n",
        "class mcb(tf.keras.callbacks.Callback):\n",
        "    def on_epoch_end(self, epoch, logs={}):\n",
        "       if(logs.get('accuracy')>0.95):\n",
        "            print(\"\\nReached 95% accuracy so cancelling training!\")\n",
        "            self.model.stop_training = True\n",
        "cb = mcb()"
      ],
      "execution_count": 6,
      "outputs": []
    },
    {
      "cell_type": "code",
      "metadata": {
        "colab": {
          "base_uri": "https://localhost:8080/"
        },
        "id": "GrSP4yeo5qkA",
        "outputId": "7a37ae41-d250-473a-88a9-24dd3fbf4b1a"
      },
      "source": [
        "history = model.fit(trainIm, trainLab, batch_size=256, epochs=120, validation_data=(testIm, testLab), callbacks=[cb])"
      ],
      "execution_count": 7,
      "outputs": [
        {
          "output_type": "stream",
          "text": [
            "Epoch 1/120\n",
            "  6/196 [..............................] - ETA: 23s - loss: 3.2337 - accuracy: 0.1211WARNING:tensorflow:Callback method `on_train_batch_end` is slow compared to the batch time (batch time: 0.0446s vs `on_train_batch_end` time: 0.0652s). Check your callbacks.\n",
            "196/196 [==============================] - 60s 136ms/step - loss: 2.1567 - accuracy: 0.2311 - val_loss: 9.7999 - val_accuracy: 0.1000\n",
            "Epoch 2/120\n",
            "196/196 [==============================] - 25s 128ms/step - loss: 1.9794 - accuracy: 0.2843 - val_loss: 4.8299 - val_accuracy: 0.1105\n",
            "Epoch 3/120\n",
            "196/196 [==============================] - 25s 128ms/step - loss: 1.9197 - accuracy: 0.3018 - val_loss: 3.1316 - val_accuracy: 0.2299\n",
            "Epoch 4/120\n",
            "196/196 [==============================] - 25s 129ms/step - loss: 1.8565 - accuracy: 0.3367 - val_loss: 2.1024 - val_accuracy: 0.3139\n",
            "Epoch 5/120\n",
            "196/196 [==============================] - 25s 128ms/step - loss: 1.8200 - accuracy: 0.3594 - val_loss: 2.0553 - val_accuracy: 0.3568\n",
            "Epoch 6/120\n",
            "196/196 [==============================] - 25s 128ms/step - loss: 1.7892 - accuracy: 0.3739 - val_loss: 2.3411 - val_accuracy: 0.2459\n",
            "Epoch 7/120\n",
            "196/196 [==============================] - 25s 128ms/step - loss: 1.5790 - accuracy: 0.4548 - val_loss: 1.7510 - val_accuracy: 0.4310\n",
            "Epoch 8/120\n",
            "196/196 [==============================] - 25s 128ms/step - loss: 1.4961 - accuracy: 0.4926 - val_loss: 1.8536 - val_accuracy: 0.3913\n",
            "Epoch 9/120\n",
            "196/196 [==============================] - 25s 128ms/step - loss: 1.4257 - accuracy: 0.5236 - val_loss: 1.5319 - val_accuracy: 0.4932\n",
            "Epoch 10/120\n",
            "196/196 [==============================] - 25s 128ms/step - loss: 1.3699 - accuracy: 0.5468 - val_loss: 1.4874 - val_accuracy: 0.5159\n",
            "Epoch 11/120\n",
            "196/196 [==============================] - 25s 128ms/step - loss: 1.3195 - accuracy: 0.5689 - val_loss: 1.4502 - val_accuracy: 0.5212\n",
            "Epoch 12/120\n",
            "196/196 [==============================] - 25s 128ms/step - loss: 1.2785 - accuracy: 0.5869 - val_loss: 1.4392 - val_accuracy: 0.5296\n",
            "Epoch 13/120\n",
            "196/196 [==============================] - 25s 128ms/step - loss: 1.2480 - accuracy: 0.5967 - val_loss: 1.5176 - val_accuracy: 0.4778\n",
            "Epoch 14/120\n",
            "196/196 [==============================] - 25s 128ms/step - loss: 1.2034 - accuracy: 0.6181 - val_loss: 1.5137 - val_accuracy: 0.5141\n",
            "Epoch 15/120\n",
            "196/196 [==============================] - 25s 128ms/step - loss: 1.1847 - accuracy: 0.6271 - val_loss: 1.5311 - val_accuracy: 0.4863\n",
            "Epoch 16/120\n",
            "196/196 [==============================] - 25s 128ms/step - loss: 1.1521 - accuracy: 0.6396 - val_loss: 1.6778 - val_accuracy: 0.4943\n",
            "Epoch 17/120\n",
            "196/196 [==============================] - 25s 128ms/step - loss: 1.1288 - accuracy: 0.6533 - val_loss: 1.2950 - val_accuracy: 0.5999\n",
            "Epoch 18/120\n",
            "196/196 [==============================] - 25s 128ms/step - loss: 1.1129 - accuracy: 0.6584 - val_loss: 2.0482 - val_accuracy: 0.4721\n",
            "Epoch 19/120\n",
            "196/196 [==============================] - 25s 128ms/step - loss: 1.0838 - accuracy: 0.6697 - val_loss: 1.4807 - val_accuracy: 0.5532\n",
            "Epoch 20/120\n",
            "196/196 [==============================] - 25s 128ms/step - loss: 1.0690 - accuracy: 0.6773 - val_loss: 1.3751 - val_accuracy: 0.5809\n",
            "Epoch 21/120\n",
            "196/196 [==============================] - 25s 128ms/step - loss: 1.0669 - accuracy: 0.6780 - val_loss: 1.4463 - val_accuracy: 0.5520\n",
            "Epoch 22/120\n",
            "196/196 [==============================] - 25s 128ms/step - loss: 1.0447 - accuracy: 0.6877 - val_loss: 1.1534 - val_accuracy: 0.6555\n",
            "Epoch 23/120\n",
            "196/196 [==============================] - 25s 128ms/step - loss: 1.0269 - accuracy: 0.6962 - val_loss: 1.2152 - val_accuracy: 0.6432\n",
            "Epoch 24/120\n",
            "196/196 [==============================] - 25s 128ms/step - loss: 1.0115 - accuracy: 0.7037 - val_loss: 1.4142 - val_accuracy: 0.5742\n",
            "Epoch 25/120\n",
            "196/196 [==============================] - 25s 129ms/step - loss: 0.9956 - accuracy: 0.7095 - val_loss: 1.3018 - val_accuracy: 0.6187\n",
            "Epoch 26/120\n",
            "196/196 [==============================] - 25s 128ms/step - loss: 0.9903 - accuracy: 0.7127 - val_loss: 1.1986 - val_accuracy: 0.6418\n",
            "Epoch 27/120\n",
            "196/196 [==============================] - 25s 128ms/step - loss: 0.9841 - accuracy: 0.7152 - val_loss: 1.3350 - val_accuracy: 0.6014\n",
            "Epoch 28/120\n",
            "196/196 [==============================] - 25s 128ms/step - loss: 0.9693 - accuracy: 0.7220 - val_loss: 1.1953 - val_accuracy: 0.6513\n",
            "Epoch 29/120\n",
            "196/196 [==============================] - 25s 128ms/step - loss: 0.9723 - accuracy: 0.7237 - val_loss: 1.1790 - val_accuracy: 0.6617\n",
            "Epoch 30/120\n",
            "196/196 [==============================] - 25s 128ms/step - loss: 0.9576 - accuracy: 0.7276 - val_loss: 1.7978 - val_accuracy: 0.5551\n",
            "Epoch 31/120\n",
            "196/196 [==============================] - 25s 129ms/step - loss: 0.9544 - accuracy: 0.7313 - val_loss: 1.2589 - val_accuracy: 0.6134\n",
            "Epoch 32/120\n",
            "196/196 [==============================] - 25s 129ms/step - loss: 0.9536 - accuracy: 0.7324 - val_loss: 1.1810 - val_accuracy: 0.6518\n",
            "Epoch 33/120\n",
            "196/196 [==============================] - 25s 128ms/step - loss: 0.9431 - accuracy: 0.7366 - val_loss: 1.6075 - val_accuracy: 0.6424\n",
            "Epoch 34/120\n",
            "196/196 [==============================] - 25s 128ms/step - loss: 0.9742 - accuracy: 0.7297 - val_loss: 1.8345 - val_accuracy: 0.5086\n",
            "Epoch 35/120\n",
            "196/196 [==============================] - 25s 128ms/step - loss: 0.9546 - accuracy: 0.7387 - val_loss: 1.2089 - val_accuracy: 0.6582\n",
            "Epoch 36/120\n",
            "196/196 [==============================] - 25s 128ms/step - loss: 0.9350 - accuracy: 0.7430 - val_loss: 1.8783 - val_accuracy: 0.5926\n",
            "Epoch 37/120\n",
            "196/196 [==============================] - 25s 128ms/step - loss: 0.9372 - accuracy: 0.7432 - val_loss: 1.1993 - val_accuracy: 0.6540\n",
            "Epoch 38/120\n",
            "196/196 [==============================] - 25s 128ms/step - loss: 0.9359 - accuracy: 0.7449 - val_loss: 1.1304 - val_accuracy: 0.6908\n",
            "Epoch 39/120\n",
            "196/196 [==============================] - 25s 128ms/step - loss: 0.9503 - accuracy: 0.7421 - val_loss: 1.1953 - val_accuracy: 0.6693\n",
            "Epoch 40/120\n",
            "196/196 [==============================] - 25s 128ms/step - loss: 0.9318 - accuracy: 0.7477 - val_loss: 1.1650 - val_accuracy: 0.6754\n",
            "Epoch 41/120\n",
            "196/196 [==============================] - 25s 129ms/step - loss: 0.9333 - accuracy: 0.7488 - val_loss: 1.3391 - val_accuracy: 0.6176\n",
            "Epoch 42/120\n",
            "196/196 [==============================] - 25s 128ms/step - loss: 0.9428 - accuracy: 0.7443 - val_loss: 1.1434 - val_accuracy: 0.6792\n",
            "Epoch 43/120\n",
            "196/196 [==============================] - 25s 128ms/step - loss: 0.9350 - accuracy: 0.7476 - val_loss: 1.1906 - val_accuracy: 0.6704\n",
            "Epoch 44/120\n",
            "196/196 [==============================] - 25s 128ms/step - loss: 0.9618 - accuracy: 0.7407 - val_loss: 2.0204 - val_accuracy: 0.5588\n",
            "Epoch 45/120\n",
            "196/196 [==============================] - 25s 129ms/step - loss: 0.9680 - accuracy: 0.7405 - val_loss: 1.4290 - val_accuracy: 0.6132\n",
            "Epoch 46/120\n",
            "196/196 [==============================] - 25s 129ms/step - loss: 0.9247 - accuracy: 0.7532 - val_loss: 1.2512 - val_accuracy: 0.6427\n",
            "Epoch 47/120\n",
            "196/196 [==============================] - 25s 128ms/step - loss: 0.9170 - accuracy: 0.7591 - val_loss: 1.2428 - val_accuracy: 0.6429\n",
            "Epoch 48/120\n",
            "196/196 [==============================] - 25s 129ms/step - loss: 1.0237 - accuracy: 0.7237 - val_loss: 1.3147 - val_accuracy: 0.6379\n",
            "Epoch 49/120\n",
            "196/196 [==============================] - 25s 129ms/step - loss: 0.9592 - accuracy: 0.7431 - val_loss: 2.4936 - val_accuracy: 0.5527\n",
            "Epoch 50/120\n",
            "196/196 [==============================] - 25s 128ms/step - loss: 0.9710 - accuracy: 0.7391 - val_loss: 1.1430 - val_accuracy: 0.6853\n",
            "Epoch 51/120\n",
            "196/196 [==============================] - 25s 129ms/step - loss: 0.9638 - accuracy: 0.7456 - val_loss: 1.2301 - val_accuracy: 0.6576\n",
            "Epoch 52/120\n",
            "196/196 [==============================] - 25s 128ms/step - loss: 0.9592 - accuracy: 0.7461 - val_loss: 1.2073 - val_accuracy: 0.6637\n",
            "Epoch 53/120\n",
            "196/196 [==============================] - 25s 128ms/step - loss: 0.9730 - accuracy: 0.7436 - val_loss: 1.1604 - val_accuracy: 0.6853\n",
            "Epoch 54/120\n",
            "196/196 [==============================] - 25s 129ms/step - loss: 0.9119 - accuracy: 0.7651 - val_loss: 1.7159 - val_accuracy: 0.6433\n",
            "Epoch 55/120\n",
            "196/196 [==============================] - 25s 129ms/step - loss: 0.9247 - accuracy: 0.7590 - val_loss: 1.2535 - val_accuracy: 0.6545\n",
            "Epoch 56/120\n",
            "196/196 [==============================] - 25s 129ms/step - loss: 0.9202 - accuracy: 0.7617 - val_loss: 1.1979 - val_accuracy: 0.6694\n",
            "Epoch 57/120\n",
            "196/196 [==============================] - 25s 129ms/step - loss: 0.8658 - accuracy: 0.7784 - val_loss: 1.1333 - val_accuracy: 0.6981\n",
            "Epoch 58/120\n",
            "196/196 [==============================] - 25s 130ms/step - loss: 0.8227 - accuracy: 0.7893 - val_loss: 1.0972 - val_accuracy: 0.7093\n",
            "Epoch 59/120\n",
            "196/196 [==============================] - 25s 130ms/step - loss: 0.7914 - accuracy: 0.7995 - val_loss: 1.0844 - val_accuracy: 0.6935\n",
            "Epoch 60/120\n",
            "196/196 [==============================] - 25s 130ms/step - loss: 0.7977 - accuracy: 0.7992 - val_loss: 1.0491 - val_accuracy: 0.7082\n",
            "Epoch 61/120\n",
            "196/196 [==============================] - 25s 130ms/step - loss: 0.7746 - accuracy: 0.8023 - val_loss: 1.0999 - val_accuracy: 0.7039\n",
            "Epoch 62/120\n",
            "196/196 [==============================] - 25s 130ms/step - loss: 0.7583 - accuracy: 0.8087 - val_loss: 1.0182 - val_accuracy: 0.7303\n",
            "Epoch 63/120\n",
            "196/196 [==============================] - 25s 130ms/step - loss: 0.7520 - accuracy: 0.8096 - val_loss: 1.0537 - val_accuracy: 0.7124\n",
            "Epoch 64/120\n",
            "196/196 [==============================] - 25s 130ms/step - loss: 0.7496 - accuracy: 0.8118 - val_loss: 1.0576 - val_accuracy: 0.7200\n",
            "Epoch 65/120\n",
            "196/196 [==============================] - 25s 130ms/step - loss: 0.7445 - accuracy: 0.8122 - val_loss: 1.0670 - val_accuracy: 0.7134\n",
            "Epoch 66/120\n",
            "196/196 [==============================] - 25s 129ms/step - loss: 0.7324 - accuracy: 0.8178 - val_loss: 1.1243 - val_accuracy: 0.6980\n",
            "Epoch 67/120\n",
            "196/196 [==============================] - 25s 129ms/step - loss: 0.7501 - accuracy: 0.8105 - val_loss: 0.9781 - val_accuracy: 0.7445\n",
            "Epoch 68/120\n",
            "196/196 [==============================] - 25s 129ms/step - loss: 0.7257 - accuracy: 0.8186 - val_loss: 1.0256 - val_accuracy: 0.7264\n",
            "Epoch 69/120\n",
            "196/196 [==============================] - 25s 130ms/step - loss: 0.7329 - accuracy: 0.8165 - val_loss: 1.1216 - val_accuracy: 0.7119\n",
            "Epoch 70/120\n",
            "196/196 [==============================] - 25s 130ms/step - loss: 0.7225 - accuracy: 0.8198 - val_loss: 0.9959 - val_accuracy: 0.7422\n",
            "Epoch 71/120\n",
            "196/196 [==============================] - 25s 129ms/step - loss: 0.7033 - accuracy: 0.8272 - val_loss: 1.0109 - val_accuracy: 0.7326\n",
            "Epoch 72/120\n",
            "196/196 [==============================] - 25s 130ms/step - loss: 0.6862 - accuracy: 0.8317 - val_loss: 1.0146 - val_accuracy: 0.7452\n",
            "Epoch 73/120\n",
            "196/196 [==============================] - 25s 129ms/step - loss: 0.6795 - accuracy: 0.8344 - val_loss: 1.0036 - val_accuracy: 0.7357\n",
            "Epoch 74/120\n",
            "196/196 [==============================] - 25s 130ms/step - loss: 0.6788 - accuracy: 0.8333 - val_loss: 1.0009 - val_accuracy: 0.7417\n",
            "Epoch 75/120\n",
            "196/196 [==============================] - 25s 129ms/step - loss: 0.6695 - accuracy: 0.8370 - val_loss: 1.2246 - val_accuracy: 0.6955\n",
            "Epoch 76/120\n",
            "196/196 [==============================] - 25s 130ms/step - loss: 0.6673 - accuracy: 0.8378 - val_loss: 1.0045 - val_accuracy: 0.7352\n",
            "Epoch 77/120\n",
            "196/196 [==============================] - 25s 130ms/step - loss: 0.6516 - accuracy: 0.8429 - val_loss: 1.0188 - val_accuracy: 0.7295\n",
            "Epoch 78/120\n",
            "196/196 [==============================] - 25s 130ms/step - loss: 0.6511 - accuracy: 0.8426 - val_loss: 1.0814 - val_accuracy: 0.7213\n",
            "Epoch 79/120\n",
            "196/196 [==============================] - 25s 130ms/step - loss: 0.6441 - accuracy: 0.8456 - val_loss: 1.0628 - val_accuracy: 0.7323\n",
            "Epoch 80/120\n",
            "196/196 [==============================] - 25s 130ms/step - loss: 0.6525 - accuracy: 0.8421 - val_loss: 0.9926 - val_accuracy: 0.7442\n",
            "Epoch 81/120\n",
            "196/196 [==============================] - 25s 130ms/step - loss: 0.6350 - accuracy: 0.8491 - val_loss: 1.0233 - val_accuracy: 0.7347\n",
            "Epoch 82/120\n",
            "196/196 [==============================] - 25s 130ms/step - loss: 0.6282 - accuracy: 0.8512 - val_loss: 1.0483 - val_accuracy: 0.7311\n",
            "Epoch 83/120\n",
            "196/196 [==============================] - 25s 130ms/step - loss: 0.6370 - accuracy: 0.8484 - val_loss: 1.0397 - val_accuracy: 0.7353\n",
            "Epoch 84/120\n",
            "196/196 [==============================] - 25s 129ms/step - loss: 0.6269 - accuracy: 0.8517 - val_loss: 0.9852 - val_accuracy: 0.7486\n",
            "Epoch 85/120\n",
            "196/196 [==============================] - 25s 129ms/step - loss: 0.6209 - accuracy: 0.8552 - val_loss: 0.9926 - val_accuracy: 0.7441\n",
            "Epoch 86/120\n",
            "196/196 [==============================] - 25s 130ms/step - loss: 0.6131 - accuracy: 0.8585 - val_loss: 1.0403 - val_accuracy: 0.7377\n",
            "Epoch 87/120\n",
            "196/196 [==============================] - 26s 130ms/step - loss: 0.6091 - accuracy: 0.8590 - val_loss: 1.0446 - val_accuracy: 0.7337\n",
            "Epoch 88/120\n",
            "196/196 [==============================] - 25s 130ms/step - loss: 0.6061 - accuracy: 0.8588 - val_loss: 1.1791 - val_accuracy: 0.6992\n",
            "Epoch 89/120\n",
            "196/196 [==============================] - 25s 130ms/step - loss: 0.6049 - accuracy: 0.8611 - val_loss: 1.0141 - val_accuracy: 0.7422\n",
            "Epoch 90/120\n",
            "196/196 [==============================] - 25s 130ms/step - loss: 0.6015 - accuracy: 0.8617 - val_loss: 1.0515 - val_accuracy: 0.7348\n",
            "Epoch 91/120\n",
            "196/196 [==============================] - 25s 130ms/step - loss: 0.5924 - accuracy: 0.8643 - val_loss: 1.0528 - val_accuracy: 0.7396\n",
            "Epoch 92/120\n",
            "196/196 [==============================] - 25s 130ms/step - loss: 0.5870 - accuracy: 0.8663 - val_loss: 1.0031 - val_accuracy: 0.7497\n",
            "Epoch 93/120\n",
            "196/196 [==============================] - 25s 130ms/step - loss: 0.5854 - accuracy: 0.8661 - val_loss: 1.0141 - val_accuracy: 0.7415\n",
            "Epoch 94/120\n",
            "196/196 [==============================] - 25s 130ms/step - loss: 0.5839 - accuracy: 0.8674 - val_loss: 1.0669 - val_accuracy: 0.7341\n",
            "Epoch 95/120\n",
            "196/196 [==============================] - 25s 130ms/step - loss: 0.5901 - accuracy: 0.8670 - val_loss: 1.0583 - val_accuracy: 0.7404\n",
            "Epoch 96/120\n",
            "196/196 [==============================] - 25s 130ms/step - loss: 0.5816 - accuracy: 0.8699 - val_loss: 1.0282 - val_accuracy: 0.7420\n",
            "Epoch 97/120\n",
            "196/196 [==============================] - 25s 130ms/step - loss: 0.5764 - accuracy: 0.8711 - val_loss: 1.0983 - val_accuracy: 0.7249\n",
            "Epoch 98/120\n",
            "196/196 [==============================] - 25s 130ms/step - loss: 0.5792 - accuracy: 0.8701 - val_loss: 1.0030 - val_accuracy: 0.7521\n",
            "Epoch 99/120\n",
            "196/196 [==============================] - 25s 130ms/step - loss: 0.5740 - accuracy: 0.8742 - val_loss: 1.0339 - val_accuracy: 0.7521\n",
            "Epoch 100/120\n",
            "196/196 [==============================] - 25s 130ms/step - loss: 0.5660 - accuracy: 0.8739 - val_loss: 1.0165 - val_accuracy: 0.7539\n",
            "Epoch 101/120\n",
            "196/196 [==============================] - 25s 130ms/step - loss: 0.5686 - accuracy: 0.8748 - val_loss: 1.0368 - val_accuracy: 0.7492\n",
            "Epoch 102/120\n",
            "196/196 [==============================] - 25s 130ms/step - loss: 0.5622 - accuracy: 0.8772 - val_loss: 1.0651 - val_accuracy: 0.7360\n",
            "Epoch 103/120\n",
            "196/196 [==============================] - 25s 130ms/step - loss: 0.5604 - accuracy: 0.8776 - val_loss: 1.0439 - val_accuracy: 0.7494\n",
            "Epoch 104/120\n",
            "196/196 [==============================] - 25s 130ms/step - loss: 0.5538 - accuracy: 0.8811 - val_loss: 1.0264 - val_accuracy: 0.7471\n",
            "Epoch 105/120\n",
            "196/196 [==============================] - 25s 130ms/step - loss: 0.5560 - accuracy: 0.8808 - val_loss: 1.0761 - val_accuracy: 0.7406\n",
            "Epoch 106/120\n",
            "196/196 [==============================] - 25s 130ms/step - loss: 0.5553 - accuracy: 0.8812 - val_loss: 1.0271 - val_accuracy: 0.7543\n",
            "Epoch 107/120\n",
            "196/196 [==============================] - 25s 130ms/step - loss: 0.5543 - accuracy: 0.8813 - val_loss: 1.1571 - val_accuracy: 0.7257\n",
            "Epoch 108/120\n",
            "196/196 [==============================] - 25s 130ms/step - loss: 0.5501 - accuracy: 0.8824 - val_loss: 1.0289 - val_accuracy: 0.7552\n",
            "Epoch 109/120\n",
            "196/196 [==============================] - 25s 130ms/step - loss: 0.5535 - accuracy: 0.8817 - val_loss: 1.0407 - val_accuracy: 0.7493\n",
            "Epoch 110/120\n",
            "196/196 [==============================] - 25s 130ms/step - loss: 0.5478 - accuracy: 0.8833 - val_loss: 1.1219 - val_accuracy: 0.7333\n",
            "Epoch 111/120\n",
            "196/196 [==============================] - 25s 130ms/step - loss: 0.5491 - accuracy: 0.8840 - val_loss: 1.0850 - val_accuracy: 0.7427\n",
            "Epoch 112/120\n",
            "196/196 [==============================] - 25s 130ms/step - loss: 0.5379 - accuracy: 0.8864 - val_loss: 1.1297 - val_accuracy: 0.7329\n",
            "Epoch 113/120\n",
            "196/196 [==============================] - 26s 130ms/step - loss: 0.5390 - accuracy: 0.8875 - val_loss: 1.0876 - val_accuracy: 0.7402\n",
            "Epoch 114/120\n",
            "196/196 [==============================] - 26s 130ms/step - loss: 0.5377 - accuracy: 0.8880 - val_loss: 1.0858 - val_accuracy: 0.7411\n",
            "Epoch 115/120\n",
            "196/196 [==============================] - 26s 130ms/step - loss: 0.5303 - accuracy: 0.8912 - val_loss: 1.0801 - val_accuracy: 0.7423\n",
            "Epoch 116/120\n",
            "196/196 [==============================] - 26s 130ms/step - loss: 0.5311 - accuracy: 0.8914 - val_loss: 1.0798 - val_accuracy: 0.7511\n",
            "Epoch 117/120\n",
            "196/196 [==============================] - 26s 130ms/step - loss: 0.5355 - accuracy: 0.8902 - val_loss: 1.0774 - val_accuracy: 0.7410\n",
            "Epoch 118/120\n",
            "196/196 [==============================] - 26s 130ms/step - loss: 0.5302 - accuracy: 0.8908 - val_loss: 1.0742 - val_accuracy: 0.7533\n",
            "Epoch 119/120\n",
            "196/196 [==============================] - 26s 130ms/step - loss: 0.5234 - accuracy: 0.8935 - val_loss: 1.2333 - val_accuracy: 0.7120\n",
            "Epoch 120/120\n",
            "196/196 [==============================] - 25s 130ms/step - loss: 0.5354 - accuracy: 0.8895 - val_loss: 1.0638 - val_accuracy: 0.7454\n"
          ],
          "name": "stdout"
        }
      ]
    },
    {
      "cell_type": "markdown",
      "metadata": {
        "id": "55TYF9uBuzZW"
      },
      "source": [
        "After 120 epochs, the accuracy reached on test data was **74.54%** and training accuracy 88.95, although it did reach a peak of 75.52% after the 108th epoch."
      ]
    },
    {
      "cell_type": "code",
      "metadata": {
        "colab": {
          "base_uri": "https://localhost:8080/"
        },
        "id": "AVWZvNu7HAEf",
        "outputId": "8fd796a6-7b2a-4b45-df8c-462d0289529d"
      },
      "source": [
        "model.evaluate(testIm, testLab)"
      ],
      "execution_count": 8,
      "outputs": [
        {
          "output_type": "stream",
          "text": [
            "313/313 [==============================] - 5s 16ms/step - loss: 1.0638 - accuracy: 0.7454\n"
          ],
          "name": "stdout"
        },
        {
          "output_type": "execute_result",
          "data": {
            "text/plain": [
              "[1.0638210773468018, 0.7454000115394592]"
            ]
          },
          "metadata": {
            "tags": []
          },
          "execution_count": 8
        }
      ]
    },
    {
      "cell_type": "code",
      "metadata": {
        "colab": {
          "base_uri": "https://localhost:8080/",
          "height": 499
        },
        "id": "dZvJwUY7czMs",
        "outputId": "b241e251-e338-4510-b867-39d077b74553"
      },
      "source": [
        "import matplotlib.pyplot as plt\n",
        "\n",
        "acc = history.history['accuracy']\n",
        "val_acc = history.history['val_accuracy']\n",
        "\n",
        "loss = history.history['loss']\n",
        "val_loss = history.history['val_loss']\n",
        "\n",
        "epochs_range = range(120)\n",
        "\n",
        "plt.figure(figsize=(8, 8))\n",
        "plt.subplot(1, 2, 1)\n",
        "plt.plot(epochs_range, acc, label='Training Accuracy')\n",
        "plt.plot(epochs_range, val_acc, label='Validation Accuracy')\n",
        "plt.legend(loc='lower right')\n",
        "plt.title('Training and Validation Accuracy')\n",
        "\n",
        "plt.subplot(1, 2, 2)\n",
        "plt.plot(epochs_range, loss, label='Training Loss')\n",
        "plt.plot(epochs_range, val_loss, label='Validation Loss')\n",
        "plt.legend(loc='upper right')\n",
        "plt.title('Training and Validation Loss')\n",
        "plt.show()"
      ],
      "execution_count": 10,
      "outputs": [
        {
          "output_type": "display_data",
          "data": {
            "image/png": "[encoded data removed]",
            "text/plain": [
              "<Figure size 576x576 with 2 Axes>"
            ]
          },
          "metadata": {
            "tags": [],
            "needs_background": "light"
          }
        }
      ]
    },
    {
      "cell_type": "code",
      "metadata": {
        "colab": {
          "base_uri": "https://localhost:8080/"
        },
        "id": "wmnB2bqzHMnq",
        "outputId": "d760537f-7d86-4523-af1e-b30d0918c3a2"
      },
      "source": [
        "print(model.model(trainIm).summary())"
      ],
      "execution_count": 11,
      "outputs": [
        {
          "output_type": "stream",
          "text": [
            "Model: \"model\"\n",
            "_________________________________________________________________\n",
            "Layer (type)                 Output Shape              Param #   \n",
            "=================================================================\n",
            "input_1 (InputLayer)         [(None, 32, 32, 3)]       0         \n",
            "_________________________________________________________________\n",
            "sequential (Sequential)      (None, 32, 32, 3)         0         \n",
            "_________________________________________________________________\n",
            "stage (stage)                (None, 16, 16, 48)        1728      \n",
            "_________________________________________________________________\n",
            "stage_1 (stage)              (None, 8, 8, 48)          46464     \n",
            "_________________________________________________________________\n",
            "stage_2 (stage)              (None, 4, 4, 96)          139008    \n",
            "_________________________________________________________________\n",
            "stage_3 (stage)              (None, 2, 2, 192)         554496    \n",
            "_________________________________________________________________\n",
            "stage_4 (stage)              (None, 1, 1, 1280)        2465280   \n",
            "_________________________________________________________________\n",
            "global_average_pooling2d (Gl (None, 1280)              0         \n",
            "_________________________________________________________________\n",
            "dense (Dense)                (None, 10)                12810     \n",
            "=================================================================\n",
            "Total params: 3,219,786\n",
            "Trainable params: 3,216,458\n",
            "Non-trainable params: 3,328\n",
            "_________________________________________________________________\n",
            "None\n"
          ],
          "name": "stdout"
        }
      ]
    }
  ]
}