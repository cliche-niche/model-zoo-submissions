{
  "nbformat": 4,
  "nbformat_minor": 0,
  "metadata": {
    "colab": {
      "name": "RepVGG.ipynb",
      "provenance": [],
      "collapsed_sections": [],
      "authorship_tag": "ABX9TyOP5HvYqbI1IMUlNUovFytt",
      "include_colab_link": true
    },
    "kernelspec": {
      "name": "python3",
      "display_name": "Python 3"
    },
    "language_info": {
      "name": "python"
    },
    "accelerator": "GPU"
  },
  "cells": [
    {
      "cell_type": "markdown",
      "metadata": {
        "id": "view-in-github",
        "colab_type": "text"
      },
      "source": [
        "<a href=\"https://colab.research.google.com/github/cliche-niche/model-zoo-submissions/blob/main/RepVGG/RepVGG1.ipynb\" target=\"_parent\"><img src=\"https://colab.research.google.com/assets/colab-badge.svg\" alt=\"Open In Colab\"/></a>"
      ]
    },
    {
      "cell_type": "markdown",
      "metadata": {
        "id": "PgJw8Ur4FyRt"
      },
      "source": [
        "An implementation of [RepVGG](https://arxiv.org/pdf/2101.03697.pdf), A0 architecture. It tests upon CIFAR-10 dataset."
      ]
    },
    {
      "cell_type": "code",
      "metadata": {
        "id": "Z_0Z-KOiQQiZ"
      },
      "source": [
        "import tensorflow as tf\n",
        "import numpy as np\n",
        "from tensorflow.keras import layers\n",
        "from tensorflow.keras import activations\n",
        "from tensorflow.keras import regularizers"
      ],
      "execution_count": 1,
      "outputs": []
    },
    {
      "cell_type": "markdown",
      "metadata": {
        "id": "Z8GJ6Uu5GPvM"
      },
      "source": [
        "Loading the data, subtracting the mean, and applying horizontal flip augmentation."
      ]
    },
    {
      "cell_type": "code",
      "metadata": {
        "id": "hKKmidni4-1P"
      },
      "source": [
        "(trainIm, trainLab), (testIm, testLab) = tf.keras.datasets.cifar10.load_data()\n",
        "trainIm = trainIm / 255.0\n",
        "testIm = testIm / 255.0\n",
        "\n",
        "trainImMean = np.mean(trainIm, axis=0)\n",
        "trainIm -= trainImMean\n",
        "testIm -= trainImMean\n",
        "\n",
        "\n",
        "trainIm = tf.image.random_crop(trainIm, trainIm.shape)\n",
        "# tf.image.random_flip_left_right(trainIm)\n",
        "\n",
        "trainLab = tf.keras.utils.to_categorical(trainLab, 10)\n",
        "testLab = tf.keras.utils.to_categorical(testLab, 10)\n",
        "\n",
        "datagen = tf.keras.preprocessing.image.ImageDataGenerator(horizontal_flip=True)\n",
        "datagen.fit(trainIm)"
      ],
      "execution_count": 15,
      "outputs": []
    },
    {
      "cell_type": "markdown",
      "metadata": {
        "id": "enp3_YqzGam9"
      },
      "source": [
        "Code of a single stage.\n",
        "\n",
        "The first layer of a stage down-samples the input using 3x3 convolutions (stride=2, padding=1) and 1x1 convolutions (stride=2, no padding), adds them and applies ReLU activation on their sum.\n",
        "\n",
        "The rest of the layers use 3x3 conv (stride=1, padding=1), 1x1 conv (stride=1, no padding). Then the output of these layers is added along with an identity, and ReLU activation is applied.\n",
        "\n",
        "At the end of a stage, BatchNormalization is applied."
      ]
    },
    {
      "cell_type": "code",
      "metadata": {
        "id": "eGh7_jQ8QWU_"
      },
      "source": [
        "class stage(layers.Layer):\n",
        "    def __init__(self, filters, layer):\n",
        "        super(stage, self).__init__()\n",
        "        self.dow3 = layers.Conv2D(filters, kernel_size=3, strides=2, padding='same', kernel_regularizer=regularizers.l2(1e-4))\n",
        "        self.dow1 = layers.Conv2D(filters, kernel_size=1, strides=2, kernel_regularizer=regularizers.l2(1e-4))\n",
        "        self.con3 = layers.Conv2D(filters, kernel_size=3, padding='same', kernel_regularizer=regularizers.l2(1e-4))\n",
        "        self.con1 = layers.Conv2D(filters, kernel_size=1, padding='same', kernel_regularizer=regularizers.l2(1e-4))\n",
        "        self.bn = layers.BatchNormalization()\n",
        "        self.re = layers.Activation(activations.relu)\n",
        "        self.lay = layer\n",
        "\n",
        "    def call(self, inp):\n",
        "        x = self.dow3(inp)\n",
        "        y = self.dow1(inp)\n",
        "        x = x + y\n",
        "        x = self.re(x)\n",
        "        for i in range(self.lay-1):\n",
        "            y = self.con3(x)\n",
        "            z = self.con1(x)\n",
        "            x = x + y + z\n",
        "            x = self.re(x)\n",
        "        x = self.bn(x)\n",
        "        return x\n"
      ],
      "execution_count": 16,
      "outputs": []
    },
    {
      "cell_type": "markdown",
      "metadata": {
        "id": "MLecV01XIJHH"
      },
      "source": [
        "An implementation of RepVGG-A0 model. 5 stages are used with widths `[min(64, 64a), 64a, 128a, 256a, 512b]` and number of layers `[1, 2, 4, 14, 1]` respectively, and `a=0.75` and `b=2.5`. The 5 stages are then followed by GlobalAveragePooling layer and a fully connected layer with 10 channels (for CIFAR-10)."
      ]
    },
    {
      "cell_type": "code",
      "metadata": {
        "id": "p-xaOXuDY--k"
      },
      "source": [
        "class repvgg(tf.keras.Model):\n",
        "    def __init__(self, a, b, l=[1,2,4,14,1]):\n",
        "        super(repvgg, self).__init__()\n",
        "        self.st1 = stage(min(64, 64*a), 1)\n",
        "        self.st2 = stage(64*a, 2)\n",
        "        self.st3 = stage(128*a, 4)\n",
        "        self.st4 = stage(256*a, 14)\n",
        "        self.st5 = stage(512*b, 1)\n",
        "        self.gap = layers.GlobalAveragePooling2D()\n",
        "        self.end = layers.Dense(10, activation=\"softmax\", kernel_regularizer=regularizers.l2(1e-4))\n",
        "        \n",
        "\n",
        "    def call(self, inp):\n",
        "        x = self.st1(inp)\n",
        "        x = self.st2(x)\n",
        "        x = self.st3(x)\n",
        "        x = self.st4(x)\n",
        "        x = self.st5(x)\n",
        "        x = self.gap(x)\n",
        "        x = self.end(x)\n",
        "\n",
        "        return x\n",
        "\n",
        "\n",
        "    def model(self, train):\n",
        "        x = layers.Input(shape=train[0].shape)\n",
        "        return tf.keras.Model(inputs=x, outputs=self.call(x))"
      ],
      "execution_count": 17,
      "outputs": []
    },
    {
      "cell_type": "code",
      "metadata": {
        "id": "RqZ1c2ryZVMN"
      },
      "source": [
        "model = repvgg(a=0.75, b=2.5)\n",
        "model.compile(  optimizer = tf.keras.optimizers.Adam(),\n",
        "                loss = 'categorical_crossentropy',\n",
        "                metrics = ['accuracy'])"
      ],
      "execution_count": 18,
      "outputs": []
    },
    {
      "cell_type": "code",
      "metadata": {
        "id": "x1ffr9yTDjd-"
      },
      "source": [
        "#For callbacks\n",
        "class mcb(tf.keras.callbacks.Callback):\n",
        "    def on_epoch_end(self, epoch, logs={}):\n",
        "       if(logs.get('accuracy')>0.95):\n",
        "            print(\"\\nReached 95% accuracy so cancelling training!\")\n",
        "            self.model.stop_training = True\n",
        "cb = mcb()"
      ],
      "execution_count": 19,
      "outputs": []
    },
    {
      "cell_type": "code",
      "metadata": {
        "colab": {
          "base_uri": "https://localhost:8080/"
        },
        "id": "GrSP4yeo5qkA",
        "outputId": "92d930b0-2720-462d-98ba-1331572e69f3"
      },
      "source": [
        "history = model.fit(datagen.flow(trainIm, trainLab, batch_size=256), epochs=60, validation_data=(testIm, testLab), callbacks=[cb])\n",
        "# history = model.fit(trainIm, trainLab, batch_size=256, epochs=60, validation_data=(testIm, testLab), callbacks=[cb], shuffle=True)"
      ],
      "execution_count": 20,
      "outputs": [
        {
          "output_type": "stream",
          "text": [
            "Epoch 1/60\n",
            "  6/196 [..............................] - ETA: 11s - loss: 3.1434 - accuracy: 0.1361WARNING:tensorflow:Callback method `on_train_batch_end` is slow compared to the batch time (batch time: 0.0320s vs `on_train_batch_end` time: 0.0340s). Check your callbacks.\n",
            "196/196 [==============================] - 16s 68ms/step - loss: 2.0163 - accuracy: 0.3156 - val_loss: 4.9172 - val_accuracy: 0.1000\n",
            "Epoch 2/60\n",
            "196/196 [==============================] - 13s 64ms/step - loss: 1.7649 - accuracy: 0.3868 - val_loss: 2.9541 - val_accuracy: 0.2251\n",
            "Epoch 3/60\n",
            "196/196 [==============================] - 12s 63ms/step - loss: 1.5664 - accuracy: 0.4799 - val_loss: 68.7644 - val_accuracy: 0.1000\n",
            "Epoch 4/60\n",
            "196/196 [==============================] - 12s 63ms/step - loss: 1.4409 - accuracy: 0.5316 - val_loss: 1.7161 - val_accuracy: 0.4663\n",
            "Epoch 5/60\n",
            "196/196 [==============================] - 12s 62ms/step - loss: 1.3066 - accuracy: 0.5811 - val_loss: 3.2235 - val_accuracy: 0.3163\n",
            "Epoch 6/60\n",
            "196/196 [==============================] - 12s 62ms/step - loss: 1.2219 - accuracy: 0.6142 - val_loss: 1.5739 - val_accuracy: 0.5378\n",
            "Epoch 7/60\n",
            "196/196 [==============================] - 13s 66ms/step - loss: 1.1303 - accuracy: 0.6485 - val_loss: 1.4570 - val_accuracy: 0.5706\n",
            "Epoch 8/60\n",
            "196/196 [==============================] - 13s 66ms/step - loss: 1.0635 - accuracy: 0.6771 - val_loss: 1.4733 - val_accuracy: 0.5755\n",
            "Epoch 9/60\n",
            "196/196 [==============================] - 12s 63ms/step - loss: 0.9978 - accuracy: 0.6999 - val_loss: 1.7091 - val_accuracy: 0.5123\n",
            "Epoch 10/60\n",
            "196/196 [==============================] - 12s 63ms/step - loss: 0.9527 - accuracy: 0.7157 - val_loss: 1.2110 - val_accuracy: 0.6483\n",
            "Epoch 11/60\n",
            "196/196 [==============================] - 12s 63ms/step - loss: 0.8995 - accuracy: 0.7351 - val_loss: 1.4386 - val_accuracy: 0.5945\n",
            "Epoch 12/60\n",
            "196/196 [==============================] - 12s 63ms/step - loss: 0.8693 - accuracy: 0.7467 - val_loss: 1.2612 - val_accuracy: 0.6512\n",
            "Epoch 13/60\n",
            "196/196 [==============================] - 12s 62ms/step - loss: 0.8307 - accuracy: 0.7614 - val_loss: 1.5618 - val_accuracy: 0.5872\n",
            "Epoch 14/60\n",
            "196/196 [==============================] - 12s 63ms/step - loss: 0.7941 - accuracy: 0.7748 - val_loss: 1.7392 - val_accuracy: 0.5611\n",
            "Epoch 15/60\n",
            "196/196 [==============================] - 12s 63ms/step - loss: 0.7718 - accuracy: 0.7844 - val_loss: 1.7852 - val_accuracy: 0.5556\n",
            "Epoch 16/60\n",
            "196/196 [==============================] - 12s 62ms/step - loss: 0.7451 - accuracy: 0.7960 - val_loss: 1.3091 - val_accuracy: 0.6596\n",
            "Epoch 17/60\n",
            "196/196 [==============================] - 12s 62ms/step - loss: 0.7214 - accuracy: 0.8032 - val_loss: 1.1051 - val_accuracy: 0.7124\n",
            "Epoch 18/60\n",
            "196/196 [==============================] - 12s 63ms/step - loss: 0.6880 - accuracy: 0.8179 - val_loss: 1.1821 - val_accuracy: 0.6855\n",
            "Epoch 19/60\n",
            "196/196 [==============================] - 12s 63ms/step - loss: 0.6807 - accuracy: 0.8194 - val_loss: 1.5903 - val_accuracy: 0.5993\n",
            "Epoch 20/60\n",
            "196/196 [==============================] - 12s 63ms/step - loss: 0.6670 - accuracy: 0.8247 - val_loss: 1.1969 - val_accuracy: 0.6857\n",
            "Epoch 21/60\n",
            "196/196 [==============================] - 12s 63ms/step - loss: 0.6422 - accuracy: 0.8354 - val_loss: 1.3005 - val_accuracy: 0.6863\n",
            "Epoch 22/60\n",
            "196/196 [==============================] - 12s 63ms/step - loss: 0.6187 - accuracy: 0.8445 - val_loss: 1.2382 - val_accuracy: 0.6960\n",
            "Epoch 23/60\n",
            "196/196 [==============================] - 12s 63ms/step - loss: 0.6018 - accuracy: 0.8514 - val_loss: 1.1368 - val_accuracy: 0.7085\n",
            "Epoch 24/60\n",
            "196/196 [==============================] - 12s 62ms/step - loss: 0.5918 - accuracy: 0.8559 - val_loss: 1.1422 - val_accuracy: 0.7129\n",
            "Epoch 25/60\n",
            "196/196 [==============================] - 12s 62ms/step - loss: 0.5752 - accuracy: 0.8623 - val_loss: 1.2116 - val_accuracy: 0.7080\n",
            "Epoch 26/60\n",
            "196/196 [==============================] - 12s 62ms/step - loss: 0.5767 - accuracy: 0.8644 - val_loss: 1.1100 - val_accuracy: 0.7159\n",
            "Epoch 27/60\n",
            "196/196 [==============================] - 12s 62ms/step - loss: 0.5609 - accuracy: 0.8700 - val_loss: 1.1688 - val_accuracy: 0.7022\n",
            "Epoch 28/60\n",
            "196/196 [==============================] - 12s 63ms/step - loss: 0.5487 - accuracy: 0.8752 - val_loss: 1.1826 - val_accuracy: 0.7197\n",
            "Epoch 29/60\n",
            "196/196 [==============================] - 12s 62ms/step - loss: 0.5373 - accuracy: 0.8799 - val_loss: 1.3289 - val_accuracy: 0.7004\n",
            "Epoch 30/60\n",
            "196/196 [==============================] - 12s 63ms/step - loss: 0.5235 - accuracy: 0.8839 - val_loss: 1.1350 - val_accuracy: 0.7326\n",
            "Epoch 31/60\n",
            "196/196 [==============================] - 12s 63ms/step - loss: 0.5152 - accuracy: 0.8879 - val_loss: 1.2624 - val_accuracy: 0.7178\n",
            "Epoch 32/60\n",
            "196/196 [==============================] - 12s 63ms/step - loss: 0.5010 - accuracy: 0.8961 - val_loss: 1.1542 - val_accuracy: 0.7262\n",
            "Epoch 33/60\n",
            "196/196 [==============================] - 12s 62ms/step - loss: 0.5020 - accuracy: 0.8956 - val_loss: 1.2142 - val_accuracy: 0.7268\n",
            "Epoch 34/60\n",
            "196/196 [==============================] - 12s 63ms/step - loss: 0.4921 - accuracy: 0.9009 - val_loss: 1.2218 - val_accuracy: 0.7198\n",
            "Epoch 35/60\n",
            "196/196 [==============================] - 12s 62ms/step - loss: 0.4755 - accuracy: 0.9064 - val_loss: 1.3626 - val_accuracy: 0.7071\n",
            "Epoch 36/60\n",
            "196/196 [==============================] - 12s 62ms/step - loss: 0.4755 - accuracy: 0.9065 - val_loss: 1.2973 - val_accuracy: 0.7113\n",
            "Epoch 37/60\n",
            "196/196 [==============================] - 12s 62ms/step - loss: 0.4773 - accuracy: 0.9068 - val_loss: 1.8203 - val_accuracy: 0.6084\n",
            "Epoch 38/60\n",
            "196/196 [==============================] - 12s 62ms/step - loss: 0.4698 - accuracy: 0.9110 - val_loss: 1.4170 - val_accuracy: 0.7114\n",
            "Epoch 39/60\n",
            "196/196 [==============================] - 12s 63ms/step - loss: 0.4664 - accuracy: 0.9125 - val_loss: 1.2695 - val_accuracy: 0.7307\n",
            "Epoch 40/60\n",
            "196/196 [==============================] - 12s 63ms/step - loss: 0.4499 - accuracy: 0.9187 - val_loss: 1.3372 - val_accuracy: 0.7151\n",
            "Epoch 41/60\n",
            "196/196 [==============================] - 12s 63ms/step - loss: 0.4497 - accuracy: 0.9207 - val_loss: 1.2666 - val_accuracy: 0.7255\n",
            "Epoch 42/60\n",
            "196/196 [==============================] - 12s 63ms/step - loss: 0.4478 - accuracy: 0.9225 - val_loss: 1.3338 - val_accuracy: 0.7183\n",
            "Epoch 43/60\n",
            "196/196 [==============================] - 12s 63ms/step - loss: 0.4321 - accuracy: 0.9283 - val_loss: 1.2667 - val_accuracy: 0.7345\n",
            "Epoch 44/60\n",
            "196/196 [==============================] - 12s 62ms/step - loss: 0.4393 - accuracy: 0.9250 - val_loss: 1.2232 - val_accuracy: 0.7303\n",
            "Epoch 45/60\n",
            "196/196 [==============================] - 12s 62ms/step - loss: 0.4343 - accuracy: 0.9273 - val_loss: 1.3370 - val_accuracy: 0.7266\n",
            "Epoch 46/60\n",
            "196/196 [==============================] - 12s 62ms/step - loss: 0.4279 - accuracy: 0.9303 - val_loss: 1.4027 - val_accuracy: 0.7119\n",
            "Epoch 47/60\n",
            "196/196 [==============================] - 12s 62ms/step - loss: 0.4334 - accuracy: 0.9277 - val_loss: 1.3185 - val_accuracy: 0.7291\n",
            "Epoch 48/60\n",
            "196/196 [==============================] - 13s 66ms/step - loss: 0.4271 - accuracy: 0.9319 - val_loss: 1.3076 - val_accuracy: 0.7389\n",
            "Epoch 49/60\n",
            "196/196 [==============================] - 12s 63ms/step - loss: 0.4205 - accuracy: 0.9348 - val_loss: 1.2747 - val_accuracy: 0.7368\n",
            "Epoch 50/60\n",
            "196/196 [==============================] - 12s 62ms/step - loss: 0.4301 - accuracy: 0.9318 - val_loss: 1.2524 - val_accuracy: 0.7431\n",
            "Epoch 51/60\n",
            "196/196 [==============================] - 12s 62ms/step - loss: 0.4156 - accuracy: 0.9377 - val_loss: 1.3918 - val_accuracy: 0.7316\n",
            "Epoch 52/60\n",
            "196/196 [==============================] - 12s 63ms/step - loss: 0.4267 - accuracy: 0.9348 - val_loss: 1.4040 - val_accuracy: 0.7244\n",
            "Epoch 53/60\n",
            "196/196 [==============================] - 12s 62ms/step - loss: 0.4184 - accuracy: 0.9391 - val_loss: 1.3586 - val_accuracy: 0.7281\n",
            "Epoch 54/60\n",
            "196/196 [==============================] - 12s 62ms/step - loss: 0.4106 - accuracy: 0.9408 - val_loss: 1.2616 - val_accuracy: 0.7440\n",
            "Epoch 55/60\n",
            "196/196 [==============================] - 12s 62ms/step - loss: 0.4128 - accuracy: 0.9413 - val_loss: 1.3840 - val_accuracy: 0.7331\n",
            "Epoch 56/60\n",
            "196/196 [==============================] - 12s 62ms/step - loss: 0.3987 - accuracy: 0.9462 - val_loss: 1.3990 - val_accuracy: 0.7300\n",
            "Epoch 57/60\n",
            "196/196 [==============================] - 12s 63ms/step - loss: 0.4026 - accuracy: 0.9433 - val_loss: 1.5441 - val_accuracy: 0.7177\n",
            "Epoch 58/60\n",
            "196/196 [==============================] - 12s 62ms/step - loss: 0.4108 - accuracy: 0.9422 - val_loss: 1.4016 - val_accuracy: 0.7328\n",
            "Epoch 59/60\n",
            "196/196 [==============================] - 12s 62ms/step - loss: 0.4008 - accuracy: 0.9466 - val_loss: 1.3093 - val_accuracy: 0.7434\n",
            "Epoch 60/60\n",
            "196/196 [==============================] - 12s 62ms/step - loss: 0.3961 - accuracy: 0.9468 - val_loss: 1.2877 - val_accuracy: 0.7435\n"
          ],
          "name": "stdout"
        }
      ]
    },
    {
      "cell_type": "markdown",
      "metadata": {
        "id": "ultWGPC9LBIb"
      },
      "source": [
        "Achieves an accuracy of **78.03%** on CIFAR-10 test dataset, with 89.81% accuracy on training dataset."
      ]
    },
    {
      "cell_type": "code",
      "metadata": {
        "colab": {
          "base_uri": "https://localhost:8080/"
        },
        "id": "AVWZvNu7HAEf",
        "outputId": "78781a57-933f-46b3-9a00-e344d136935e"
      },
      "source": [
        "model.evaluate(testIm, testLab)"
      ],
      "execution_count": 21,
      "outputs": [
        {
          "output_type": "stream",
          "text": [
            "313/313 [==============================] - 2s 7ms/step - loss: 1.2877 - accuracy: 0.7435\n"
          ],
          "name": "stdout"
        },
        {
          "output_type": "execute_result",
          "data": {
            "text/plain": [
              "[1.287716269493103, 0.7434999942779541]"
            ]
          },
          "metadata": {
            "tags": []
          },
          "execution_count": 21
        }
      ]
    },
    {
      "cell_type": "code",
      "metadata": {
        "colab": {
          "base_uri": "https://localhost:8080/",
          "height": 499
        },
        "id": "dZvJwUY7czMs",
        "outputId": "496070bb-f5be-44a1-be72-38e47f1443ed"
      },
      "source": [
        "import matplotlib.pyplot as plt\n",
        "\n",
        "acc = history.history['accuracy']\n",
        "val_acc = history.history['val_accuracy']\n",
        "\n",
        "loss = history.history['loss']\n",
        "val_loss = history.history['val_loss']\n",
        "\n",
        "epochs_range = range(60)\n",
        "\n",
        "plt.figure(figsize=(8, 8))\n",
        "plt.subplot(1, 2, 1)\n",
        "plt.plot(epochs_range, acc, label='Training Accuracy')\n",
        "plt.plot(epochs_range, val_acc, label='Validation Accuracy')\n",
        "plt.legend(loc='lower right')\n",
        "plt.title('Training and Validation Accuracy')\n",
        "\n",
        "plt.subplot(1, 2, 2)\n",
        "plt.plot(epochs_range, loss, label='Training Loss')\n",
        "plt.plot(epochs_range, val_loss, label='Validation Loss')\n",
        "plt.legend(loc='upper right')\n",
        "plt.title('Training and Validation Loss')\n",
        "plt.show()"
      ],
      "execution_count": 24,
      "outputs": [
        {
          "output_type": "display_data",
          "data": {
            "image/png": "[encoded data removed]",
            "text/plain": [
              "<Figure size 576x576 with 2 Axes>"
            ]
          },
          "metadata": {
            "tags": [],
            "needs_background": "light"
          }
        }
      ]
    },
    {
      "cell_type": "code",
      "metadata": {
        "colab": {
          "base_uri": "https://localhost:8080/"
        },
        "id": "wmnB2bqzHMnq",
        "outputId": "578bae30-cf98-41c4-f495-ee3e1e899fd1"
      },
      "source": [
        "print(model.model(trainIm).summary())"
      ],
      "execution_count": 25,
      "outputs": [
        {
          "output_type": "stream",
          "text": [
            "Model: \"model\"\n",
            "_________________________________________________________________\n",
            "Layer (type)                 Output Shape              Param #   \n",
            "=================================================================\n",
            "input_1 (InputLayer)         [(None, 32, 32, 3)]       0         \n",
            "_________________________________________________________________\n",
            "stage_10 (stage)             (None, 16, 16, 48)        1728      \n",
            "_________________________________________________________________\n",
            "stage_11 (stage)             (None, 8, 8, 48)          46464     \n",
            "_________________________________________________________________\n",
            "stage_12 (stage)             (None, 4, 4, 96)          139008    \n",
            "_________________________________________________________________\n",
            "stage_13 (stage)             (None, 2, 2, 192)         554496    \n",
            "_________________________________________________________________\n",
            "stage_14 (stage)             (None, 1, 1, 1280)        2465280   \n",
            "_________________________________________________________________\n",
            "global_average_pooling2d_2 ( (None, 1280)              0         \n",
            "_________________________________________________________________\n",
            "dense_2 (Dense)              (None, 10)                12810     \n",
            "=================================================================\n",
            "Total params: 3,219,786\n",
            "Trainable params: 3,216,458\n",
            "Non-trainable params: 3,328\n",
            "_________________________________________________________________\n",
            "None\n"
          ],
          "name": "stdout"
        }
      ]
    }
  ]
}