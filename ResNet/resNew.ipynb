{
  "nbformat": 4,
  "nbformat_minor": 0,
  "metadata": {
    "accelerator": "GPU",
    "colab": {
      "name": "res2.ipynb",
      "provenance": [],
      "collapsed_sections": [],
      "authorship_tag": "ABX9TyP12W7xIcyQIOqKq7PRVWsT",
      "include_colab_link": true
    },
    "kernelspec": {
      "display_name": "Python 3",
      "name": "python3"
    },
    "language_info": {
      "name": "python"
    }
  },
  "cells": [
    {
      "cell_type": "markdown",
      "metadata": {
        "id": "view-in-github",
        "colab_type": "text"
      },
      "source": [
        "<a href=\"https://colab.research.google.com/github/cliche-niche/model-zoo-submissions/blob/main/ResNet/resNew.ipynb\" target=\"_parent\"><img src=\"https://colab.research.google.com/assets/colab-badge.svg\" alt=\"Open In Colab\"/></a>"
      ]
    },
    {
      "cell_type": "code",
      "metadata": {
        "id": "7ZSsZDtpbTNh"
      },
      "source": [
        "from keras.datasets import cifar10\n",
        "import tensorflow as tf\n",
        "from tensorflow.keras import layers\n",
        "from tensorflow.keras import activations\n",
        "from tensorflow.keras import regularizers"
      ],
      "execution_count": 1,
      "outputs": []
    },
    {
      "cell_type": "code",
      "metadata": {
        "id": "DH1N8UMebWZn",
        "colab": {
          "base_uri": "https://localhost:8080/"
        },
        "outputId": "f926a7cf-6b46-4db9-a447-965ac37fa094"
      },
      "source": [
        "(trainIm, trainLab), (testIm, testLab) = cifar10.load_data()\n",
        "trainIm = trainIm / 255.0\n",
        "testIm = testIm / 255.0\n",
        "trainLab = tf.keras.utils.to_categorical(trainLab, 10)\n",
        "testLab = tf.keras.utils.to_categorical(testLab, 10)"
      ],
      "execution_count": 2,
      "outputs": [
        {
          "output_type": "stream",
          "text": [
            "Downloading data from https://www.cs.toronto.edu/~kriz/cifar-10-python.tar.gz\n",
            "170500096/170498071 [==============================] - 2s 0us/step\n",
            "170508288/170498071 [==============================] - 2s 0us/step\n"
          ],
          "name": "stdout"
        }
      ]
    },
    {
      "cell_type": "code",
      "metadata": {
        "id": "toLgWSqjbXzd"
      },
      "source": [
        "#For callbacks\n",
        "class mcb(tf.keras.callbacks.Callback):\n",
        "    def on_epoch_end(self, epoch, logs={}):\n",
        "       if(logs.get('accuracy')>0.95):\n",
        "            print(\"\\nReached 95% accuracy so cancelling training!\")\n",
        "            self.model.stop_training = True\n",
        "cb = mcb()"
      ],
      "execution_count": 3,
      "outputs": []
    },
    {
      "cell_type": "markdown",
      "metadata": {
        "id": "V8bN0SqlgW4-"
      },
      "source": [
        "https://www.tensorflow.org/guide/keras/custom_layers_and_models\n",
        "\n",
        "Two classes, `resId` and `resSh`, with reference from the link above were written.\n",
        "\n",
        "`resId` is used to make a resNet block in which Identity shortcuts are used, padding is used to keep dimensions of residual the same as input (inp). They are then added together and a LeakyReLU layer is applied on them\n",
        "\n",
        "`resSh` is used to make a resNet block in which Shortcuts are used, the size of input is made the same as residual by using a 1x1 convolution with `strides= (2, 2)`. The residual is obtained by first using a `3x3 convolution` (with padding) and `strides= (2, 2)`, followed by another `3x3 convolution` (with padding) but `strides=1` this time.\n",
        "\n",
        "A layer for `BatchNormalization`, followed by a `ReLU` is used after every convolution, unless they're being added, in which case `ReLU` is applied after their addition"
      ]
    },
    {
      "cell_type": "code",
      "metadata": {
        "id": "V1tnZgb1baXD"
      },
      "source": [
        "class resId(layers.Layer):\n",
        "    def __init__(self, filters=64, kerSize=3):\n",
        "        super(resId, self).__init__()\n",
        "        self.co = layers.Conv2D(filters, kernel_size=kerSize, padding='same',\n",
        "                                kernel_initializer='he_normal', kernel_regularizer=regularizers.l2(1e-4))\n",
        "        self.bn = layers.BatchNormalization()\n",
        "        self.re = layers.Activation(activations.relu)\n",
        "    def call(self, inp):\n",
        "        x = inp\n",
        "        id = inp\n",
        "        x = self.co(x)\n",
        "        x = self.bn(x)\n",
        "        x = self.re(x)\n",
        "        x = self.co(x)\n",
        "        x = self.bn(x)\n",
        "        x = layers.add([x, id])\n",
        "        x = self.re(x)\n",
        "        return x\n",
        " \n",
        "class resSh(layers.Layer):\n",
        "    def __init__(self, filters, kerSize=3, stride=(2, 2)):\n",
        "        super(resSh, self).__init__()\n",
        "        self.co1 = layers.Conv2D(filters, kernel_size=kerSize, padding='same', strides=stride,\n",
        "                                kernel_initializer='he_normal', kernel_regularizer=regularizers.l2(1e-4))\n",
        "        self.bn = layers.BatchNormalization()\n",
        "        self.re = layers.Activation(activations.relu)\n",
        "        self.co2 = layers.Conv2D(filters, kernel_size=kerSize, padding='same',\n",
        "                                kernel_initializer='he_normal', kernel_regularizer=regularizers.l2(1e-4))\n",
        "        self.co = layers.Conv2D(filters, (1, 1), strides=stride, padding='same')\n",
        "    def call(self, inp):\n",
        "        x = inp\n",
        "        sh = inp\n",
        "        x = self.co1(x)\n",
        "        x = self.bn(x)\n",
        "        x = self.re(x)\n",
        "        x = self.co2(x)\n",
        "        x = self.bn(x)\n",
        "        sh = self.co(sh)\n",
        "        x = layers.add([x, sh])\n",
        "        x = self.re(x)\n",
        "        return x"
      ],
      "execution_count": 4,
      "outputs": []
    },
    {
      "cell_type": "markdown",
      "metadata": {
        "id": "tC5SBFBY2cnG"
      },
      "source": [
        "This is a resNet model based on the paper:\n",
        "https://arxiv.org/abs/1512.03385\n",
        "\n",
        "It has some additional `Dropout` layers to obtain a better accuracy on test data, rather than without the layers."
      ]
    },
    {
      "cell_type": "code",
      "metadata": {
        "id": "DDzMBLGSgHuQ"
      },
      "source": [
        "class resNet(tf.keras.Model):\n",
        "    def __init__(self):\n",
        "        super(resNet, self).__init__()\n",
        "        self.co1 = layers.Conv2D(64, (7, 7), strides=(2, 2), padding='same')\n",
        "        self.mp1 = layers.MaxPooling2D((2, 2), padding='same')\n",
        "\n",
        "        self.ri1 = resId(filters=64, kerSize=3)\n",
        "        self.rs1 = resSh(filters=128, kerSize=3, stride=(2, 2))\n",
        "        self.ri2 = resId(filters=128, kerSize=3)\n",
        "        self.rs2 = resSh(filters=256, kerSize=3, stride=(2, 2))\n",
        "        self.ri3 = resId(filters=256, kerSize=3)\n",
        "        self.rs3 = resSh(filters=512, kerSize=3, stride=(2, 2))\n",
        "        self.ri4 = resId(filters=512, kerSize=3)\n",
        "\n",
        "        self.gap = layers.GlobalAveragePooling2D()\n",
        "        self.fla = layers.Flatten()\n",
        "        self.end = layers.Dense(10, activation=\"softmax\", kernel_initializer='he_normal')\n",
        "\n",
        "    def call(self, inp):\n",
        "        x = inp\n",
        "        x = self.co1(x)\n",
        "        x = self.mp1(x)\n",
        "        for i in range(3):\n",
        "            x = self.ri1(x)\n",
        "        x = self.rs1(x)\n",
        "  #      x = layers.Dropout(0.2)(x)\n",
        "        for i in range(3):\n",
        "            x = self.ri2(x)\n",
        "        x = self.rs2(x)\n",
        "  #      x = layers.Dropout(0.2)(x)\n",
        "        for i in range(5):\n",
        "            x = self.ri3(x)\n",
        "        x = self.rs3(x)\n",
        " #       x = layers.Dropout(0.2)(x)\n",
        "        x = self.ri4(x)\n",
        "        x = self.ri4(x)\n",
        "   #     x = layers.Dropout(0.2)(x)\n",
        "\n",
        "        x = self.gap(x)\n",
        "        x = self.fla(x)\n",
        "        x = self.end(x)\n",
        "        return(x)\n",
        "\n",
        "    def model(self):\n",
        "        x = layers.Input(shape=(32, 32, 3))\n",
        "        return tf.keras.Model(inputs=[x], outputs=self.call(x))"
      ],
      "execution_count": 5,
      "outputs": []
    },
    {
      "cell_type": "code",
      "metadata": {
        "id": "0pGTnAgRTNQP"
      },
      "source": [
        "datagen = tf.keras.preprocessing.image.ImageDataGenerator(\n",
        "        zca_epsilon=1e-06,\n",
        "        width_shift_range=0.1,\n",
        "        height_shift_range=0.1,\n",
        "        fill_mode='nearest',\n",
        "        horizontal_flip=True)\n",
        "datagen.fit(trainIm)"
      ],
      "execution_count": 6,
      "outputs": []
    },
    {
      "cell_type": "code",
      "metadata": {
        "colab": {
          "base_uri": "https://localhost:8080/"
        },
        "id": "sQeiUeibjE9a",
        "outputId": "c04396ba-4720-4236-e126-38fe6108dad3"
      },
      "source": [
        "model = resNet()\n",
        "print(model.model().summary())\n",
        "model.compile(  optimizer = tf.keras.optimizers.Adam(lr=1e-3) ,\n",
        "                loss = 'categorical_crossentropy',\n",
        "                metrics = ['accuracy'])"
      ],
      "execution_count": 7,
      "outputs": [
        {
          "output_type": "stream",
          "text": [
            "Model: \"model\"\n",
            "__________________________________________________________________________________________________\n",
            "Layer (type)                    Output Shape         Param #     Connected to                     \n",
            "==================================================================================================\n",
            "input_1 (InputLayer)            [(None, 32, 32, 3)]  0                                            \n",
            "__________________________________________________________________________________________________\n",
            "conv2d (Conv2D)                 (None, 16, 16, 64)   9472        input_1[0][0]                    \n",
            "__________________________________________________________________________________________________\n",
            "max_pooling2d (MaxPooling2D)    (None, 8, 8, 64)     0           conv2d[0][0]                     \n",
            "__________________________________________________________________________________________________\n",
            "res_id (resId)                  (None, 8, 8, 64)     37184       max_pooling2d[0][0]              \n",
            "                                                                 res_id[0][0]                     \n",
            "                                                                 res_id[1][0]                     \n",
            "__________________________________________________________________________________________________\n",
            "res_sh (resSh)                  (None, 4, 4, 128)    230272      res_id[2][0]                     \n",
            "__________________________________________________________________________________________________\n",
            "res_id_1 (resId)                (None, 4, 4, 128)    148096      res_sh[0][0]                     \n",
            "                                                                 res_id_1[0][0]                   \n",
            "                                                                 res_id_1[1][0]                   \n",
            "__________________________________________________________________________________________________\n",
            "res_sh_1 (resSh)                (None, 2, 2, 256)    919296      res_id_1[2][0]                   \n",
            "__________________________________________________________________________________________________\n",
            "res_id_2 (resId)                (None, 2, 2, 256)    591104      res_sh_1[0][0]                   \n",
            "                                                                 res_id_2[0][0]                   \n",
            "                                                                 res_id_2[1][0]                   \n",
            "                                                                 res_id_2[2][0]                   \n",
            "                                                                 res_id_2[3][0]                   \n",
            "__________________________________________________________________________________________________\n",
            "res_sh_2 (resSh)                (None, 1, 1, 512)    3673600     res_id_2[4][0]                   \n",
            "__________________________________________________________________________________________________\n",
            "res_id_3 (resId)                (None, 1, 1, 512)    2361856     res_sh_2[0][0]                   \n",
            "                                                                 res_id_3[0][0]                   \n",
            "__________________________________________________________________________________________________\n",
            "global_average_pooling2d (Globa (None, 512)          0           res_id_3[1][0]                   \n",
            "__________________________________________________________________________________________________\n",
            "flatten (Flatten)               (None, 512)          0           global_average_pooling2d[0][0]   \n",
            "__________________________________________________________________________________________________\n",
            "dense (Dense)                   (None, 10)           5130        flatten[0][0]                    \n",
            "==================================================================================================\n",
            "Total params: 7,976,010\n",
            "Trainable params: 7,972,298\n",
            "Non-trainable params: 3,712\n",
            "__________________________________________________________________________________________________\n",
            "None\n"
          ],
          "name": "stdout"
        },
        {
          "output_type": "stream",
          "text": [
            "/usr/local/lib/python3.7/dist-packages/tensorflow/python/keras/optimizer_v2/optimizer_v2.py:375: UserWarning: The `lr` argument is deprecated, use `learning_rate` instead.\n",
            "  \"The `lr` argument is deprecated, use `learning_rate` instead.\")\n"
          ],
          "name": "stderr"
        }
      ]
    },
    {
      "cell_type": "code",
      "metadata": {
        "colab": {
          "base_uri": "https://localhost:8080/"
        },
        "id": "iZpkonhdjUik",
        "outputId": "3200e273-0db2-4146-dbe4-47a16ff725aa"
      },
      "source": [
        "model.fit_generator(datagen.flow(trainIm, trainLab, batch_size=32), epochs=100, callbacks=[cb], workers=4, validation_data= (testIm, testLab))"
      ],
      "execution_count": null,
      "outputs": [
        {
          "output_type": "stream",
          "text": [
            "/usr/local/lib/python3.7/dist-packages/tensorflow/python/keras/engine/training.py:1940: UserWarning: `Model.fit_generator` is deprecated and will be removed in a future version. Please use `Model.fit`, which supports generators.\n",
            "  warnings.warn('`Model.fit_generator` is deprecated and '\n"
          ],
          "name": "stderr"
        },
        {
          "output_type": "stream",
          "text": [
            "Epoch 1/100\n",
            "1563/1563 [==============================] - 64s 38ms/step - loss: 2.1346 - accuracy: 0.3528 - val_loss: 2.5000 - val_accuracy: 0.1726\n",
            "Epoch 2/100\n",
            "1563/1563 [==============================] - 59s 38ms/step - loss: 1.7989 - accuracy: 0.4452 - val_loss: 2.2978 - val_accuracy: 0.2475\n",
            "Epoch 3/100\n",
            "1563/1563 [==============================] - 59s 38ms/step - loss: 1.6187 - accuracy: 0.4953 - val_loss: 2.2378 - val_accuracy: 0.2636\n",
            "Epoch 4/100\n",
            "1563/1563 [==============================] - 59s 38ms/step - loss: 1.5300 - accuracy: 0.5276 - val_loss: 2.1461 - val_accuracy: 0.2489\n",
            "Epoch 5/100\n",
            "1563/1563 [==============================] - 59s 38ms/step - loss: 1.4052 - accuracy: 0.5675 - val_loss: 1.8645 - val_accuracy: 0.3944\n",
            "Epoch 6/100\n",
            "1563/1563 [==============================] - 59s 38ms/step - loss: 1.3897 - accuracy: 0.5810 - val_loss: 1.7809 - val_accuracy: 0.4162\n",
            "Epoch 7/100\n",
            "1563/1563 [==============================] - 59s 38ms/step - loss: 1.2891 - accuracy: 0.6158 - val_loss: 1.7169 - val_accuracy: 0.4871\n",
            "Epoch 8/100\n",
            "1563/1563 [==============================] - 59s 38ms/step - loss: 1.2488 - accuracy: 0.6335 - val_loss: 1.6811 - val_accuracy: 0.5109\n",
            "Epoch 9/100\n",
            "1563/1563 [==============================] - 59s 38ms/step - loss: 1.1934 - accuracy: 0.6517 - val_loss: 1.5679 - val_accuracy: 0.5665\n",
            "Epoch 10/100\n",
            "1563/1563 [==============================] - 59s 38ms/step - loss: 1.1567 - accuracy: 0.6671 - val_loss: 1.5713 - val_accuracy: 0.5472\n",
            "Epoch 11/100\n",
            "1563/1563 [==============================] - 59s 38ms/step - loss: 1.1100 - accuracy: 0.6801 - val_loss: 1.5901 - val_accuracy: 0.5622\n",
            "Epoch 12/100\n",
            "1563/1563 [==============================] - 60s 39ms/step - loss: 1.1148 - accuracy: 0.6858 - val_loss: 1.5549 - val_accuracy: 0.5752\n",
            "Epoch 13/100\n",
            "1563/1563 [==============================] - 60s 38ms/step - loss: 1.0797 - accuracy: 0.6954 - val_loss: 1.5443 - val_accuracy: 0.5267\n",
            "Epoch 14/100\n",
            "1563/1563 [==============================] - 60s 38ms/step - loss: 1.0193 - accuracy: 0.7160 - val_loss: 1.5526 - val_accuracy: 0.5553\n",
            "Epoch 15/100\n",
            "1563/1563 [==============================] - 60s 38ms/step - loss: 1.0413 - accuracy: 0.7124 - val_loss: 1.7909 - val_accuracy: 0.4800\n",
            "Epoch 16/100\n",
            "1563/1563 [==============================] - 60s 38ms/step - loss: 0.9884 - accuracy: 0.7295 - val_loss: 1.5310 - val_accuracy: 0.5713\n",
            "Epoch 17/100\n",
            "1563/1563 [==============================] - 60s 38ms/step - loss: 0.9560 - accuracy: 0.7369 - val_loss: 1.5133 - val_accuracy: 0.5824\n",
            "Epoch 18/100\n",
            "1563/1563 [==============================] - 59s 38ms/step - loss: 0.9443 - accuracy: 0.7384 - val_loss: 1.4922 - val_accuracy: 0.5900\n",
            "Epoch 19/100\n",
            "1563/1563 [==============================] - 59s 38ms/step - loss: 0.9237 - accuracy: 0.7513 - val_loss: 1.6823 - val_accuracy: 0.4628\n",
            "Epoch 20/100\n",
            "1563/1563 [==============================] - 59s 38ms/step - loss: 0.9156 - accuracy: 0.7528 - val_loss: 1.9294 - val_accuracy: 0.3638\n",
            "Epoch 21/100\n",
            "1563/1563 [==============================] - 59s 38ms/step - loss: 0.9073 - accuracy: 0.7556 - val_loss: 1.6226 - val_accuracy: 0.5066\n",
            "Epoch 22/100\n",
            "1563/1563 [==============================] - 60s 38ms/step - loss: 0.8960 - accuracy: 0.7606 - val_loss: 1.6389 - val_accuracy: 0.5343\n",
            "Epoch 23/100\n",
            "1563/1563 [==============================] - 59s 38ms/step - loss: 0.8829 - accuracy: 0.7642 - val_loss: 1.5527 - val_accuracy: 0.5695\n",
            "Epoch 24/100\n",
            "1563/1563 [==============================] - 59s 38ms/step - loss: 0.8876 - accuracy: 0.7630 - val_loss: 1.6142 - val_accuracy: 0.5148\n",
            "Epoch 25/100\n",
            "1563/1563 [==============================] - 59s 38ms/step - loss: 0.8787 - accuracy: 0.7671 - val_loss: 1.5197 - val_accuracy: 0.6064\n",
            "Epoch 26/100\n",
            "1563/1563 [==============================] - 59s 38ms/step - loss: 0.8665 - accuracy: 0.7701 - val_loss: 1.5286 - val_accuracy: 0.6039\n",
            "Epoch 27/100\n",
            "1563/1563 [==============================] - 60s 39ms/step - loss: 0.8571 - accuracy: 0.7752 - val_loss: 1.5513 - val_accuracy: 0.5684\n",
            "Epoch 28/100\n",
            "1563/1563 [==============================] - 61s 39ms/step - loss: 0.8503 - accuracy: 0.7780 - val_loss: 1.4532 - val_accuracy: 0.6014\n",
            "Epoch 29/100\n",
            "1563/1563 [==============================] - 59s 38ms/step - loss: 0.8430 - accuracy: 0.7815 - val_loss: 1.4274 - val_accuracy: 0.6326\n",
            "Epoch 30/100\n",
            "1563/1563 [==============================] - 60s 38ms/step - loss: 0.8477 - accuracy: 0.7788 - val_loss: 1.3803 - val_accuracy: 0.6639\n",
            "Epoch 31/100\n",
            "1563/1563 [==============================] - 59s 38ms/step - loss: 0.8359 - accuracy: 0.7846 - val_loss: 1.4412 - val_accuracy: 0.6220\n",
            "Epoch 32/100\n",
            "1563/1563 [==============================] - 59s 38ms/step - loss: 0.8331 - accuracy: 0.7866 - val_loss: 1.4921 - val_accuracy: 0.6208\n",
            "Epoch 33/100\n",
            "1563/1563 [==============================] - 59s 38ms/step - loss: 0.8270 - accuracy: 0.7866 - val_loss: 1.4463 - val_accuracy: 0.6442\n",
            "Epoch 34/100\n",
            "1563/1563 [==============================] - 59s 38ms/step - loss: 0.8226 - accuracy: 0.7877 - val_loss: 1.4530 - val_accuracy: 0.6240\n",
            "Epoch 35/100\n",
            "1563/1563 [==============================] - 59s 38ms/step - loss: 0.8232 - accuracy: 0.7885 - val_loss: 1.5253 - val_accuracy: 0.5982\n",
            "Epoch 36/100\n",
            "1563/1563 [==============================] - 59s 38ms/step - loss: 0.8097 - accuracy: 0.7928 - val_loss: 1.4893 - val_accuracy: 0.5828\n",
            "Epoch 37/100\n",
            "1563/1563 [==============================] - 59s 38ms/step - loss: 0.8091 - accuracy: 0.7919 - val_loss: 1.2853 - val_accuracy: 0.6641\n",
            "Epoch 38/100\n",
            "1563/1563 [==============================] - 59s 38ms/step - loss: 0.8088 - accuracy: 0.7941 - val_loss: 1.4111 - val_accuracy: 0.6403\n",
            "Epoch 39/100\n",
            "1563/1563 [==============================] - 59s 38ms/step - loss: 0.7983 - accuracy: 0.7990 - val_loss: 1.4015 - val_accuracy: 0.6541\n",
            "Epoch 40/100\n",
            "1563/1563 [==============================] - 59s 38ms/step - loss: 0.7997 - accuracy: 0.7970 - val_loss: 1.5620 - val_accuracy: 0.5890\n",
            "Epoch 41/100\n",
            "1563/1563 [==============================] - 59s 38ms/step - loss: 0.7980 - accuracy: 0.7990 - val_loss: 1.4306 - val_accuracy: 0.6225\n",
            "Epoch 42/100\n",
            "1563/1563 [==============================] - 59s 38ms/step - loss: 0.7923 - accuracy: 0.8005 - val_loss: 1.5468 - val_accuracy: 0.5737\n",
            "Epoch 43/100\n",
            "1563/1563 [==============================] - 59s 38ms/step - loss: 0.7946 - accuracy: 0.7999 - val_loss: 1.4386 - val_accuracy: 0.6282\n",
            "Epoch 44/100\n",
            "1563/1563 [==============================] - 59s 38ms/step - loss: 0.7867 - accuracy: 0.8033 - val_loss: 1.5046 - val_accuracy: 0.5753\n",
            "Epoch 45/100\n",
            "1563/1563 [==============================] - 59s 38ms/step - loss: 0.7855 - accuracy: 0.8022 - val_loss: 1.4022 - val_accuracy: 0.6561\n",
            "Epoch 46/100\n",
            "1563/1563 [==============================] - 59s 38ms/step - loss: 0.7836 - accuracy: 0.8034 - val_loss: 1.4272 - val_accuracy: 0.6093\n",
            "Epoch 47/100\n",
            "1563/1563 [==============================] - 59s 38ms/step - loss: 0.7791 - accuracy: 0.8056 - val_loss: 1.4688 - val_accuracy: 0.5956\n",
            "Epoch 48/100\n",
            "1563/1563 [==============================] - 59s 38ms/step - loss: 0.7774 - accuracy: 0.8069 - val_loss: 1.4272 - val_accuracy: 0.5831\n",
            "Epoch 49/100\n",
            "1563/1563 [==============================] - 59s 38ms/step - loss: 0.7786 - accuracy: 0.8064 - val_loss: 1.4585 - val_accuracy: 0.6113\n",
            "Epoch 50/100\n",
            "1563/1563 [==============================] - 59s 38ms/step - loss: 0.7735 - accuracy: 0.8090 - val_loss: 1.2991 - val_accuracy: 0.6573\n",
            "Epoch 51/100\n",
            "1563/1563 [==============================] - 60s 38ms/step - loss: 0.7699 - accuracy: 0.8083 - val_loss: 1.3842 - val_accuracy: 0.6186\n",
            "Epoch 52/100\n",
            "1563/1563 [==============================] - 60s 38ms/step - loss: 0.7670 - accuracy: 0.8091 - val_loss: 1.5248 - val_accuracy: 0.5813\n",
            "Epoch 53/100\n",
            "1563/1563 [==============================] - 59s 38ms/step - loss: 0.7649 - accuracy: 0.8102 - val_loss: 1.4755 - val_accuracy: 0.5925\n",
            "Epoch 54/100\n",
            "1563/1563 [==============================] - 59s 38ms/step - loss: 0.7635 - accuracy: 0.8115 - val_loss: 1.3954 - val_accuracy: 0.6110\n",
            "Epoch 55/100\n",
            "1563/1563 [==============================] - 60s 38ms/step - loss: 0.7602 - accuracy: 0.8113 - val_loss: 1.3331 - val_accuracy: 0.6424\n",
            "Epoch 56/100\n",
            "1563/1563 [==============================] - 60s 38ms/step - loss: 0.7596 - accuracy: 0.8137 - val_loss: 1.3262 - val_accuracy: 0.6347\n",
            "Epoch 57/100\n",
            "1563/1563 [==============================] - 59s 38ms/step - loss: 0.7582 - accuracy: 0.8140 - val_loss: 1.3852 - val_accuracy: 0.6106\n",
            "Epoch 58/100\n",
            "1563/1563 [==============================] - 60s 38ms/step - loss: 0.7516 - accuracy: 0.8174 - val_loss: 1.4163 - val_accuracy: 0.5991\n",
            "Epoch 59/100\n",
            "1563/1563 [==============================] - 59s 38ms/step - loss: 0.7533 - accuracy: 0.8177 - val_loss: 1.5264 - val_accuracy: 0.5676\n",
            "Epoch 60/100\n",
            "1563/1563 [==============================] - 59s 38ms/step - loss: 0.7558 - accuracy: 0.8132 - val_loss: 1.9090 - val_accuracy: 0.4327\n",
            "Epoch 61/100\n",
            "1563/1563 [==============================] - 59s 38ms/step - loss: 0.7553 - accuracy: 0.8168 - val_loss: 1.4469 - val_accuracy: 0.6097\n",
            "Epoch 62/100\n",
            "1563/1563 [==============================] - 59s 38ms/step - loss: 0.7464 - accuracy: 0.8183 - val_loss: 1.5854 - val_accuracy: 0.5250\n",
            "Epoch 63/100\n",
            "1563/1563 [==============================] - 59s 38ms/step - loss: 0.7518 - accuracy: 0.8151 - val_loss: 1.3653 - val_accuracy: 0.6368\n",
            "Epoch 64/100\n",
            "1563/1563 [==============================] - 60s 38ms/step - loss: 0.7474 - accuracy: 0.8162 - val_loss: 1.3512 - val_accuracy: 0.6246\n",
            "Epoch 65/100\n",
            "1563/1563 [==============================] - 59s 38ms/step - loss: 0.7509 - accuracy: 0.8166 - val_loss: 1.3977 - val_accuracy: 0.6078\n",
            "Epoch 66/100\n",
            "1563/1563 [==============================] - 59s 38ms/step - loss: 0.7457 - accuracy: 0.8189 - val_loss: 1.5255 - val_accuracy: 0.5662\n",
            "Epoch 67/100\n",
            "1563/1563 [==============================] - 59s 38ms/step - loss: 0.7414 - accuracy: 0.8205 - val_loss: 1.5140 - val_accuracy: 0.5419\n",
            "Epoch 68/100\n",
            "1563/1563 [==============================] - 59s 38ms/step - loss: 0.7340 - accuracy: 0.8223 - val_loss: 1.3996 - val_accuracy: 0.6093\n",
            "Epoch 69/100\n",
            "1563/1563 [==============================] - 59s 38ms/step - loss: 0.7419 - accuracy: 0.8186 - val_loss: 1.4780 - val_accuracy: 0.5952\n",
            "Epoch 70/100\n",
            "1563/1563 [==============================] - 59s 38ms/step - loss: 0.7376 - accuracy: 0.8204 - val_loss: 1.5657 - val_accuracy: 0.5571\n",
            "Epoch 71/100\n",
            "1563/1563 [==============================] - 59s 38ms/step - loss: 0.7390 - accuracy: 0.8220 - val_loss: 1.4400 - val_accuracy: 0.5683\n",
            "Epoch 72/100\n",
            "1563/1563 [==============================] - 59s 38ms/step - loss: 0.7333 - accuracy: 0.8224 - val_loss: 1.7312 - val_accuracy: 0.4919\n",
            "Epoch 73/100\n",
            "1563/1563 [==============================] - 59s 38ms/step - loss: 0.7364 - accuracy: 0.8233 - val_loss: 1.4158 - val_accuracy: 0.6091\n",
            "Epoch 74/100\n",
            "1563/1563 [==============================] - 59s 38ms/step - loss: 0.7246 - accuracy: 0.8245 - val_loss: 1.6263 - val_accuracy: 0.5034\n",
            "Epoch 75/100\n",
            "1563/1563 [==============================] - 59s 38ms/step - loss: 0.7315 - accuracy: 0.8239 - val_loss: 1.4039 - val_accuracy: 0.6062\n",
            "Epoch 76/100\n",
            "1563/1563 [==============================] - 59s 38ms/step - loss: 0.7325 - accuracy: 0.8232 - val_loss: 1.5617 - val_accuracy: 0.5417\n",
            "Epoch 77/100\n",
            "1563/1563 [==============================] - 59s 38ms/step - loss: 0.7361 - accuracy: 0.8227 - val_loss: 1.3978 - val_accuracy: 0.5922\n",
            "Epoch 78/100\n",
            "1563/1563 [==============================] - 59s 38ms/step - loss: 0.7294 - accuracy: 0.8249 - val_loss: 1.3624 - val_accuracy: 0.6417\n",
            "Epoch 79/100\n",
            "1563/1563 [==============================] - 59s 38ms/step - loss: 0.7263 - accuracy: 0.8251 - val_loss: 1.4168 - val_accuracy: 0.6116\n",
            "Epoch 80/100\n",
            "1563/1563 [==============================] - 59s 38ms/step - loss: 0.7236 - accuracy: 0.8262 - val_loss: 1.3957 - val_accuracy: 0.6106\n",
            "Epoch 81/100\n",
            "1563/1563 [==============================] - 59s 38ms/step - loss: 0.7240 - accuracy: 0.8257 - val_loss: 1.5235 - val_accuracy: 0.5512\n",
            "Epoch 82/100\n",
            "1563/1563 [==============================] - 59s 38ms/step - loss: 0.7233 - accuracy: 0.8266 - val_loss: 1.5683 - val_accuracy: 0.5235\n",
            "Epoch 83/100\n",
            "1563/1563 [==============================] - 59s 38ms/step - loss: 0.7222 - accuracy: 0.8283 - val_loss: 1.4195 - val_accuracy: 0.6249\n",
            "Epoch 84/100\n",
            "1563/1563 [==============================] - 59s 38ms/step - loss: 0.7238 - accuracy: 0.8261 - val_loss: 1.4300 - val_accuracy: 0.6007\n",
            "Epoch 85/100\n",
            "1563/1563 [==============================] - 59s 38ms/step - loss: 0.7183 - accuracy: 0.8276 - val_loss: 1.4642 - val_accuracy: 0.5837\n",
            "Epoch 86/100\n",
            "1563/1563 [==============================] - 59s 38ms/step - loss: 0.7201 - accuracy: 0.8260 - val_loss: 1.4016 - val_accuracy: 0.5913\n",
            "Epoch 87/100\n",
            "1563/1563 [==============================] - 60s 38ms/step - loss: 0.7177 - accuracy: 0.8283 - val_loss: 1.4618 - val_accuracy: 0.5923\n",
            "Epoch 88/100\n",
            "1563/1563 [==============================] - 59s 38ms/step - loss: 0.7213 - accuracy: 0.8259 - val_loss: 1.5753 - val_accuracy: 0.5382\n",
            "Epoch 89/100\n",
            "1563/1563 [==============================] - 59s 38ms/step - loss: 0.7161 - accuracy: 0.8310 - val_loss: 1.5030 - val_accuracy: 0.5513\n",
            "Epoch 90/100\n",
            "1563/1563 [==============================] - 60s 38ms/step - loss: 0.7161 - accuracy: 0.8284 - val_loss: 1.4830 - val_accuracy: 0.5672\n",
            "Epoch 91/100\n",
            "1563/1563 [==============================] - 60s 38ms/step - loss: 0.7096 - accuracy: 0.8308 - val_loss: 1.5538 - val_accuracy: 0.5418\n",
            "Epoch 92/100\n",
            " 887/1563 [================>.............] - ETA: 24s - loss: 0.7085 - accuracy: 0.8316"
          ],
          "name": "stdout"
        }
      ]
    },
    {
      "cell_type": "code",
      "metadata": {
        "id": "sEMkAkbnjcBl"
      },
      "source": [
        "model.evaluate(testIm, testLab)"
      ],
      "execution_count": null,
      "outputs": []
    },
    {
      "cell_type": "code",
      "metadata": {
        "id": "DwJE6uLGjmGd"
      },
      "source": [
        "train_loss, train_acc = model.evaluate(trainIm, trainLab)\n",
        "test_loss, test_acc = model.evaluate(testIm, testLab)\n",
        "print(\"Training loss:\", train_loss)\n",
        "print(\"Training accuracy:\", train_acc)\n",
        "print(\"Test loss:\", test_loss)\n",
        "print(\"Test accuracy:\", test_acc)"
      ],
      "execution_count": null,
      "outputs": []
    },
    {
      "cell_type": "code",
      "metadata": {
        "id": "HO6-wQNXkmY6"
      },
      "source": [
        ""
      ],
      "execution_count": null,
      "outputs": []
    }
  ]
}