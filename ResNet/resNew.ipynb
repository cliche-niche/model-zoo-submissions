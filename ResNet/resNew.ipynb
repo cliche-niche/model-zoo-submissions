{
  "nbformat": 4,
  "nbformat_minor": 0,
  "metadata": {
    "colab": {
      "name": "res2.ipynb",
      "provenance": [],
      "collapsed_sections": [],
      "authorship_tag": "ABX9TyM7mxkpassJAcjZKhN5lrdW",
      "include_colab_link": true
    },
    "kernelspec": {
      "display_name": "Python 3",
      "name": "python3"
    },
    "language_info": {
      "name": "python"
    }
  },
  "cells": [
    {
      "cell_type": "markdown",
      "metadata": {
        "id": "view-in-github",
        "colab_type": "text"
      },
      "source": [
        "<a href=\"https://colab.research.google.com/github/cliche-niche/model-zoo-submissions/blob/main/ResNet/resNew.ipynb\" target=\"_parent\"><img src=\"https://colab.research.google.com/assets/colab-badge.svg\" alt=\"Open In Colab\"/></a>"
      ]
    },
    {
      "cell_type": "code",
      "metadata": {
        "id": "7ZSsZDtpbTNh"
      },
      "source": [
        "from keras.datasets import cifar10\n",
        "import tensorflow as tf\n",
        "from tensorflow.keras import layers\n",
        "from tensorflow.keras import activations\n",
        "from tensorflow.keras import regularizers"
      ],
      "execution_count": 9,
      "outputs": []
    },
    {
      "cell_type": "code",
      "metadata": {
        "id": "DH1N8UMebWZn"
      },
      "source": [
        "(trainIm, trainLab), (testIm, testLab) = cifar10.load_data()\n",
        "trainIm = trainIm / 255.0\n",
        "testIm = testIm / 255.0\n",
        "trainLab = tf.keras.utils.to_categorical(trainLab, 10)\n",
        "testLab = tf.keras.utils.to_categorical(testLab, 10)"
      ],
      "execution_count": 10,
      "outputs": []
    },
    {
      "cell_type": "code",
      "metadata": {
        "id": "toLgWSqjbXzd"
      },
      "source": [
        "#For callbacks\n",
        "class mcb(tf.keras.callbacks.Callback):\n",
        "    def on_epoch_end(self, epoch, logs={}):\n",
        "       if(logs.get('accuracy')>0.78):\n",
        "            print(\"\\nReached 78% accuracy so cancelling training!\")\n",
        "            self.model.stop_training = True\n",
        "cb = mcb()"
      ],
      "execution_count": 11,
      "outputs": []
    },
    {
      "cell_type": "markdown",
      "metadata": {
        "id": "V8bN0SqlgW4-"
      },
      "source": [
        "https://www.tensorflow.org/guide/keras/custom_layers_and_models\n",
        "\n",
        "Two classes, `resId` and `resSh`, with reference from the link above were written.\n",
        "\n",
        "`resId` is used to make a resNet block in which Identity shortcuts are used, padding is used to keep dimensions of residual the same as input (inp). They are then added together and a LeakyReLU layer is applied on them\n",
        "\n",
        "`resSh` is used to make a resNet block in which Shortcuts are used, the size of input is made the same as residual by using a 1x1 convolution with `strides= (2, 2)`. The residual is obtained by first using a `3x3 convolution` (with padding) and `strides= (2, 2)`, followed by another `3x3 convolution` (with padding) but `strides=1` this time.\n",
        "\n",
        "A layer for `BatchNormalization`, followed by a `ReLU` is used after every convolution, unless they're being added, in which case `ReLU` is applied after their addition"
      ]
    },
    {
      "cell_type": "code",
      "metadata": {
        "id": "V1tnZgb1baXD"
      },
      "source": [
        "class resId(layers.Layer):\n",
        "    def __init__(self, filters=64, kerSize=3):\n",
        "        super(resId, self).__init__()\n",
        "        self.co = layers.Conv2D(filters, kernel_size=kerSize, padding='same',\n",
        "                                kernel_initializer='he_normal', kernel_regularizer=regularizers.l2(1e-4))\n",
        "        self.bn = layers.BatchNormalization()\n",
        "        self.re = layers.Activation(activations.relu)\n",
        "    def call(self, inp):\n",
        "        x = inp\n",
        "        id = inp\n",
        "        x = self.co(x)\n",
        "        x = self.bn(x)\n",
        "        x = self.re(x)\n",
        "        x = self.co(x)\n",
        "        x = self.bn(x)\n",
        "        return self.re(x+id)\n",
        " \n",
        "class resSh(layers.Layer):\n",
        "    def __init__(self, filters, kerSize=3, stride=(2, 2)):\n",
        "        super(resSh, self).__init__()\n",
        "        self.co1 = layers.Conv2D(filters, kernel_size=kerSize, padding='same', strides=stride,\n",
        "                                kernel_initializer='he_normal', kernel_regularizer=regularizers.l2(1e-4))\n",
        "        self.bn = layers.BatchNormalization()\n",
        "        self.re = layers.Activation(activations.relu)\n",
        "        self.co2 = layers.Conv2D(filters, kernel_size=kerSize, padding='same',\n",
        "                                kernel_initializer='he_normal', kernel_regularizer=regularizers.l2(1e-4))\n",
        "        self.co = layers.Conv2D(filters, (1, 1), strides=stride, padding='same')\n",
        "    def call(self, inp):\n",
        "        x = inp\n",
        "        sh = inp\n",
        "        x = self.co1(x)\n",
        "        x = self.bn(x)\n",
        "        x = self.re(x)\n",
        "        x = self.co2(x)\n",
        "        x = self.bn(x)\n",
        "        sh = self.co(sh)\n",
        "        return self.re(x+sh)"
      ],
      "execution_count": 12,
      "outputs": []
    },
    {
      "cell_type": "markdown",
      "metadata": {
        "id": "tC5SBFBY2cnG"
      },
      "source": [
        "This is a resNet model based on the paper:\n",
        "https://arxiv.org/abs/1512.03385\n",
        "\n",
        "It has some additional `Dropout` layers to obtain a better accuracy on test data, rather than without the layers."
      ]
    },
    {
      "cell_type": "code",
      "metadata": {
        "id": "DDzMBLGSgHuQ"
      },
      "source": [
        "class resNet(tf.keras.Model):\n",
        "    def __init__(self):\n",
        "        super(resNet, self).__init__()\n",
        "        self.co1 = layers.Conv2D(64, (7, 7), strides=(2, 2), padding='same')\n",
        "        self.mp1 = layers.MaxPooling2D((2, 2), padding='same')\n",
        "\n",
        "        self.ri1 = resId(filters=64, kerSize=3)\n",
        "        self.rs1 = resSh(filters=128, kerSize=3, stride=(2, 2))\n",
        "        self.ri2 = resId(filters=128, kerSize=3)\n",
        "        self.rs2 = resSh(filters=256, kerSize=3, stride=(2, 2))\n",
        "        self.ri3 = resId(filters=256, kerSize=3)\n",
        "        self.rs3 = resSh(filters=512, kerSize=3, stride=(2, 2))\n",
        "        self.ri4 = resId(filters=512, kerSize=3)\n",
        "\n",
        "        self.gap = layers.GlobalAveragePooling2D()\n",
        "        self.fla = layers.Flatten()\n",
        "        self.end = layers.Dense(10, activation=\"softmax\", kernel_initializer='he_normal')\n",
        "\n",
        "    def call(self, inp):\n",
        "        x = inp\n",
        "        x = self.co1(x)\n",
        "        x = self.mp1(x)\n",
        "        for i in range(3):\n",
        "            x = self.ri1(x)\n",
        "        x = self.rs1(x)\n",
        "  #      x = layers.Dropout(0.2)(x)\n",
        "        for i in range(3):\n",
        "            x = self.ri2(x)\n",
        "        x = self.rs2(x)\n",
        "  #      x = layers.Dropout(0.2)(x)\n",
        "        for i in range(5):\n",
        "            x = self.ri3(x)\n",
        "        x = self.rs3(x)\n",
        " #       x = layers.Dropout(0.2)(x)\n",
        "        x = self.ri4(x)\n",
        "        x = self.ri4(x)\n",
        "   #     x = layers.Dropout(0.2)(x)\n",
        "\n",
        "        x = self.gap(x)\n",
        "        x = self.fla(x)\n",
        "        x = self.end(x)\n",
        "        return(x)\n",
        "\n",
        "    def model(self):\n",
        "        x = layers.Input(shape=(32, 32, 3))\n",
        "        return tf.keras.Model(inputs=[x], outputs=self.call(x))"
      ],
      "execution_count": 13,
      "outputs": []
    },
    {
      "cell_type": "code",
      "metadata": {
        "id": "0pGTnAgRTNQP"
      },
      "source": [
        "datagen = tf.keras.preprocessing.image.ImageDataGenerator(\n",
        "        zca_epsilon=1e-06,\n",
        "        width_shift_range=0.1,\n",
        "        height_shift_range=0.1,\n",
        "        fill_mode='nearest',\n",
        "        horizontal_flip=True)\n",
        "datagen.fit(trainIm)"
      ],
      "execution_count": 14,
      "outputs": []
    },
    {
      "cell_type": "code",
      "metadata": {
        "colab": {
          "base_uri": "https://localhost:8080/"
        },
        "id": "sQeiUeibjE9a",
        "outputId": "df26dac8-000a-409f-c414-cae29df7ee12"
      },
      "source": [
        "model = resNet()\n",
        "print(model.model().summary())\n",
        "model.compile(  optimizer = tf.keras.optimizers.Adam(learning_rate=1e-3) ,\n",
        "                loss = 'categorical_crossentropy',\n",
        "                metrics = ['accuracy'])"
      ],
      "execution_count": 15,
      "outputs": [
        {
          "output_type": "stream",
          "text": [
            "Model: \"model_1\"\n",
            "__________________________________________________________________________________________________\n",
            "Layer (type)                    Output Shape         Param #     Connected to                     \n",
            "==================================================================================================\n",
            "input_2 (InputLayer)            [(None, 32, 32, 3)]  0                                            \n",
            "__________________________________________________________________________________________________\n",
            "conv2d_14 (Conv2D)              (None, 16, 16, 64)   9472        input_2[0][0]                    \n",
            "__________________________________________________________________________________________________\n",
            "max_pooling2d_1 (MaxPooling2D)  (None, 8, 8, 64)     0           conv2d_14[0][0]                  \n",
            "__________________________________________________________________________________________________\n",
            "res_id_4 (resId)                (None, 8, 8, 64)     37184       max_pooling2d_1[0][0]            \n",
            "                                                                 res_id_4[0][0]                   \n",
            "                                                                 res_id_4[1][0]                   \n",
            "__________________________________________________________________________________________________\n",
            "res_sh_3 (resSh)                (None, 4, 4, 128)    230272      res_id_4[2][0]                   \n",
            "__________________________________________________________________________________________________\n",
            "res_id_5 (resId)                (None, 4, 4, 128)    148096      res_sh_3[0][0]                   \n",
            "                                                                 res_id_5[0][0]                   \n",
            "                                                                 res_id_5[1][0]                   \n",
            "__________________________________________________________________________________________________\n",
            "res_sh_4 (resSh)                (None, 2, 2, 256)    919296      res_id_5[2][0]                   \n",
            "__________________________________________________________________________________________________\n",
            "res_id_6 (resId)                (None, 2, 2, 256)    591104      res_sh_4[0][0]                   \n",
            "                                                                 res_id_6[0][0]                   \n",
            "                                                                 res_id_6[1][0]                   \n",
            "                                                                 res_id_6[2][0]                   \n",
            "                                                                 res_id_6[3][0]                   \n",
            "__________________________________________________________________________________________________\n",
            "res_sh_5 (resSh)                (None, 1, 1, 512)    3673600     res_id_6[4][0]                   \n",
            "__________________________________________________________________________________________________\n",
            "res_id_7 (resId)                (None, 1, 1, 512)    2361856     res_sh_5[0][0]                   \n",
            "                                                                 res_id_7[0][0]                   \n",
            "__________________________________________________________________________________________________\n",
            "global_average_pooling2d_1 (Glo (None, 512)          0           res_id_7[1][0]                   \n",
            "__________________________________________________________________________________________________\n",
            "flatten_1 (Flatten)             (None, 512)          0           global_average_pooling2d_1[0][0] \n",
            "__________________________________________________________________________________________________\n",
            "dense_1 (Dense)                 (None, 10)           5130        flatten_1[0][0]                  \n",
            "==================================================================================================\n",
            "Total params: 7,976,010\n",
            "Trainable params: 7,972,298\n",
            "Non-trainable params: 3,712\n",
            "__________________________________________________________________________________________________\n",
            "None\n"
          ],
          "name": "stdout"
        }
      ]
    },
    {
      "cell_type": "code",
      "metadata": {
        "colab": {
          "base_uri": "https://localhost:8080/"
        },
        "id": "iZpkonhdjUik",
        "outputId": "d7bf961e-0900-4c03-9872-0de92e15145e"
      },
      "source": [
        "model.fit(datagen.flow(trainIm, trainLab, batch_size=32), epochs=50, callbacks=[cb], workers=4, validation_data= (testIm, testLab))"
      ],
      "execution_count": 16,
      "outputs": [
        {
          "output_type": "stream",
          "text": [
            "Epoch 1/50\n",
            "1563/1563 [==============================] - 63s 38ms/step - loss: 2.1418 - accuracy: 0.3570 - val_loss: 2.6501 - val_accuracy: 0.1497\n",
            "Epoch 2/50\n",
            "1563/1563 [==============================] - 59s 38ms/step - loss: 1.7674 - accuracy: 0.4583 - val_loss: 2.4188 - val_accuracy: 0.1954\n",
            "Epoch 3/50\n",
            "1563/1563 [==============================] - 59s 38ms/step - loss: 1.6164 - accuracy: 0.4987 - val_loss: 2.1886 - val_accuracy: 0.2586\n",
            "Epoch 4/50\n",
            "1563/1563 [==============================] - 59s 38ms/step - loss: 1.5237 - accuracy: 0.5240 - val_loss: 1.9221 - val_accuracy: 0.3564\n",
            "Epoch 5/50\n",
            "1563/1563 [==============================] - 59s 38ms/step - loss: 1.4601 - accuracy: 0.5520 - val_loss: 1.9517 - val_accuracy: 0.3373\n",
            "Epoch 6/50\n",
            "1563/1563 [==============================] - 59s 38ms/step - loss: 1.4368 - accuracy: 0.5673 - val_loss: 1.7544 - val_accuracy: 0.4461\n",
            "Epoch 7/50\n",
            "1563/1563 [==============================] - 59s 38ms/step - loss: 1.3038 - accuracy: 0.6094 - val_loss: 2.3002 - val_accuracy: 0.2421\n",
            "Epoch 8/50\n",
            "1563/1563 [==============================] - 59s 38ms/step - loss: 1.2501 - accuracy: 0.6282 - val_loss: 1.6616 - val_accuracy: 0.4993\n",
            "Epoch 9/50\n",
            "1563/1563 [==============================] - 59s 38ms/step - loss: 1.2402 - accuracy: 0.6396 - val_loss: 1.6460 - val_accuracy: 0.5175\n",
            "Epoch 10/50\n",
            "1563/1563 [==============================] - 59s 38ms/step - loss: 1.2365 - accuracy: 0.6468 - val_loss: 2.2109 - val_accuracy: 0.2937\n",
            "Epoch 11/50\n",
            "1563/1563 [==============================] - 59s 38ms/step - loss: 1.1702 - accuracy: 0.6643 - val_loss: 1.4674 - val_accuracy: 0.6107\n",
            "Epoch 12/50\n",
            "1563/1563 [==============================] - 59s 38ms/step - loss: 1.1546 - accuracy: 0.6753 - val_loss: 1.5359 - val_accuracy: 0.5850\n",
            "Epoch 13/50\n",
            "1563/1563 [==============================] - 59s 38ms/step - loss: 1.0969 - accuracy: 0.6922 - val_loss: 1.5842 - val_accuracy: 0.5450\n",
            "Epoch 14/50\n",
            "1563/1563 [==============================] - 59s 38ms/step - loss: 1.0527 - accuracy: 0.7050 - val_loss: 1.7448 - val_accuracy: 0.4546\n",
            "Epoch 15/50\n",
            "1563/1563 [==============================] - 59s 38ms/step - loss: 1.0397 - accuracy: 0.7125 - val_loss: 1.6458 - val_accuracy: 0.5123\n",
            "Epoch 16/50\n",
            "1563/1563 [==============================] - 59s 38ms/step - loss: 1.0194 - accuracy: 0.7201 - val_loss: 1.6416 - val_accuracy: 0.5228\n",
            "Epoch 17/50\n",
            "1563/1563 [==============================] - 59s 38ms/step - loss: 0.9970 - accuracy: 0.7277 - val_loss: 1.7887 - val_accuracy: 0.4797\n",
            "Epoch 18/50\n",
            "1563/1563 [==============================] - 59s 38ms/step - loss: 0.9771 - accuracy: 0.7362 - val_loss: 1.6114 - val_accuracy: 0.5134\n",
            "Epoch 19/50\n",
            "1563/1563 [==============================] - 59s 38ms/step - loss: 0.9561 - accuracy: 0.7410 - val_loss: 1.8695 - val_accuracy: 0.4085\n",
            "Epoch 20/50\n",
            "1563/1563 [==============================] - 59s 38ms/step - loss: 0.9402 - accuracy: 0.7460 - val_loss: 1.6650 - val_accuracy: 0.5111\n",
            "Epoch 21/50\n",
            "1563/1563 [==============================] - 59s 38ms/step - loss: 0.9287 - accuracy: 0.7479 - val_loss: 1.9731 - val_accuracy: 0.4105\n",
            "Epoch 22/50\n",
            "1563/1563 [==============================] - 59s 38ms/step - loss: 0.9079 - accuracy: 0.7571 - val_loss: 1.6557 - val_accuracy: 0.5448\n",
            "Epoch 23/50\n",
            "1563/1563 [==============================] - 59s 38ms/step - loss: 0.9080 - accuracy: 0.7577 - val_loss: 1.8807 - val_accuracy: 0.4203\n",
            "Epoch 24/50\n",
            "1563/1563 [==============================] - 59s 38ms/step - loss: 0.8951 - accuracy: 0.7644 - val_loss: 1.6432 - val_accuracy: 0.5121\n",
            "Epoch 25/50\n",
            "1563/1563 [==============================] - 59s 38ms/step - loss: 0.8881 - accuracy: 0.7671 - val_loss: 1.8838 - val_accuracy: 0.4087\n",
            "Epoch 26/50\n",
            "1563/1563 [==============================] - 59s 37ms/step - loss: 0.8818 - accuracy: 0.7691 - val_loss: 1.7193 - val_accuracy: 0.4979\n",
            "Epoch 27/50\n",
            "1563/1563 [==============================] - 59s 38ms/step - loss: 0.8681 - accuracy: 0.7735 - val_loss: 1.6038 - val_accuracy: 0.5505\n",
            "Epoch 28/50\n",
            "1563/1563 [==============================] - 59s 37ms/step - loss: 0.8629 - accuracy: 0.7748 - val_loss: 1.7120 - val_accuracy: 0.4749\n",
            "Epoch 29/50\n",
            "1563/1563 [==============================] - 59s 37ms/step - loss: 0.8623 - accuracy: 0.7773 - val_loss: 1.7854 - val_accuracy: 0.4592\n",
            "Epoch 30/50\n",
            "1563/1563 [==============================] - 59s 37ms/step - loss: 0.8511 - accuracy: 0.7796 - val_loss: 1.8139 - val_accuracy: 0.4431\n",
            "Epoch 31/50\n",
            "1563/1563 [==============================] - 59s 37ms/step - loss: 0.8440 - accuracy: 0.7833 - val_loss: 1.5785 - val_accuracy: 0.5594\n",
            "\n",
            "Reached 78% accuracy so cancelling training!\n"
          ],
          "name": "stdout"
        },
        {
          "output_type": "execute_result",
          "data": {
            "text/plain": [
              "<tensorflow.python.keras.callbacks.History at 0x7fcbaa39c8d0>"
            ]
          },
          "metadata": {
            "tags": []
          },
          "execution_count": 16
        }
      ]
    },
    {
      "cell_type": "code",
      "metadata": {
        "id": "sEMkAkbnjcBl",
        "colab": {
          "base_uri": "https://localhost:8080/"
        },
        "outputId": "4c50d804-82eb-446a-e58b-aaf4ea6dec9a"
      },
      "source": [
        "model.evaluate(testIm, testLab)"
      ],
      "execution_count": 17,
      "outputs": [
        {
          "output_type": "stream",
          "text": [
            "313/313 [==============================] - 4s 12ms/step - loss: 1.5785 - accuracy: 0.5594\n"
          ],
          "name": "stdout"
        },
        {
          "output_type": "execute_result",
          "data": {
            "text/plain": [
              "[1.5784642696380615, 0.5594000220298767]"
            ]
          },
          "metadata": {
            "tags": []
          },
          "execution_count": 17
        }
      ]
    },
    {
      "cell_type": "code",
      "metadata": {
        "id": "DwJE6uLGjmGd",
        "colab": {
          "base_uri": "https://localhost:8080/"
        },
        "outputId": "70f6ccd8-c6ab-4c42-ad86-8bc9aec72364"
      },
      "source": [
        "train_loss, train_acc = model.evaluate(trainIm, trainLab)\n",
        "test_loss, test_acc = model.evaluate(testIm, testLab)\n",
        "print(\"Training loss:\", train_loss)\n",
        "print(\"Training accuracy:\", train_acc)\n",
        "print(\"Test loss:\", test_loss)\n",
        "print(\"Test accuracy:\", test_acc)"
      ],
      "execution_count": 18,
      "outputs": [
        {
          "output_type": "stream",
          "text": [
            "1563/1563 [==============================] - 18s 12ms/step - loss: 1.5505 - accuracy: 0.5803\n",
            "313/313 [==============================] - 4s 12ms/step - loss: 1.5785 - accuracy: 0.5594\n",
            "Training loss: 1.5505293607711792\n",
            "Training accuracy: 0.5803400278091431\n",
            "Test loss: 1.5784642696380615\n",
            "Test accuracy: 0.5594000220298767\n"
          ],
          "name": "stdout"
        }
      ]
    },
    {
      "cell_type": "code",
      "metadata": {
        "id": "HO6-wQNXkmY6"
      },
      "source": [
        ""
      ],
      "execution_count": null,
      "outputs": []
    }
  ]
}