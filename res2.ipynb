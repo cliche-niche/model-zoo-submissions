{
  "nbformat": 4,
  "nbformat_minor": 0,
  "metadata": {
    "colab": {
      "name": "res2.ipynb",
      "provenance": [],
      "collapsed_sections": [],
      "authorship_tag": "ABX9TyPBpBh2RekwSXXmfY3XYRsD",
      "include_colab_link": true
    },
    "kernelspec": {
      "name": "python3",
      "display_name": "Python 3"
    },
    "language_info": {
      "name": "python"
    },
    "accelerator": "GPU"
  },
  "cells": [
    {
      "cell_type": "markdown",
      "metadata": {
        "id": "view-in-github",
        "colab_type": "text"
      },
      "source": [
        "<a href=\"https://colab.research.google.com/github/cliche-niche/model-zoo-submissions/blob/main/res2.ipynb\" target=\"_parent\"><img src=\"https://colab.research.google.com/assets/colab-badge.svg\" alt=\"Open In Colab\"/></a>"
      ]
    },
    {
      "cell_type": "code",
      "metadata": {
        "id": "7ZSsZDtpbTNh"
      },
      "source": [
        "from keras.datasets import cifar10\n",
        "import tensorflow as tf\n",
        "from tensorflow.keras import layers\n",
        "from tensorflow.keras import activations"
      ],
      "execution_count": 12,
      "outputs": []
    },
    {
      "cell_type": "code",
      "metadata": {
        "id": "DH1N8UMebWZn"
      },
      "source": [
        "(trainIm, trainLab), (testIm, testLab) = cifar10.load_data()\n",
        "trainIm = trainIm / 255.0\n",
        "testIm = testIm / 255.0"
      ],
      "execution_count": 13,
      "outputs": []
    },
    {
      "cell_type": "code",
      "metadata": {
        "id": "toLgWSqjbXzd"
      },
      "source": [
        "#For callbacks\n",
        "class mcb(tf.keras.callbacks.Callback):\n",
        "    def on_epoch_end(self, epoch, logs={}):\n",
        "       if(logs.get('accuracy')>0.99):\n",
        "            print(\"\\nReached 99% accuracy so cancelling training!\")\n",
        "            self.model.stop_training = True\n",
        "cb = mcb()"
      ],
      "execution_count": 14,
      "outputs": []
    },
    {
      "cell_type": "markdown",
      "metadata": {
        "id": "V8bN0SqlgW4-"
      },
      "source": [
        "https://www.tensorflow.org/guide/keras/custom_layers_and_models\n",
        "\n",
        "Two classes, `resId` and `resSh`, with reference from the link above were written.\n",
        "\n",
        "`resId` is used to make a resNet block in which Identity shortcuts are used, padding is used to keep dimensions of residual the same as input (inp). They are then added together and a LeakyReLU layer is applied on them\n",
        "\n",
        "`resSh` is used to make a resNet block in which Shortcuts are used, the size of input is made the same as residual by using a 1x1 convolution with `strides= (2, 2)`. The residual is obtained by first using a `3x3 convolution` (with padding) and `strides= (2, 2)`, followed by another `3x3 convolution` (with padding) but `strides=1` this time.\n",
        "\n",
        "A layer for `BatchNormalization`, followed by a `LeakyReLU` is used after every convolution, unless they're being added, in which case `LeakyReLU` is applied after their addition"
      ]
    },
    {
      "cell_type": "code",
      "metadata": {
        "id": "V1tnZgb1baXD"
      },
      "source": [
        "class resId(layers.Layer):\n",
        "    def __init__(self, filters=64, kerSize=3):\n",
        "        super(resId, self).__init__()\n",
        "        self.co = layers.Conv2D(filters, kernel_size=kerSize, padding='same')\n",
        "        self.bn = layers.BatchNormalization()\n",
        "        self.re = layers.LeakyReLU()\n",
        "    def call(self, inp):\n",
        "        x = inp\n",
        "        id = inp\n",
        "        x = self.co(x)\n",
        "        x = self.bn(x)\n",
        "        x = self.re(x)\n",
        "        x = self.co(x)\n",
        "        x = self.bn(x)\n",
        "        return self.re(x+id)\n",
        "\n",
        "class resSh(layers.Layer):\n",
        "    def __init__(self, filters, kerSize=3, stride=(2, 2)):\n",
        "        super(resSh, self).__init__()\n",
        "        self.co1 = layers.Conv2D(filters, kernel_size=kerSize, padding='same', strides=stride)\n",
        "        self.bn = layers.BatchNormalization()\n",
        "        self.re = layers.LeakyReLU()\n",
        "        self.co2 = layers.Conv2D(filters, kernel_size=kerSize, padding='same')\n",
        "        self.co = layers.Conv2D(filters, (1, 1), strides=stride)\n",
        "    def call(self, inp):\n",
        "        x = inp\n",
        "        sh = inp\n",
        "        x = self.co1(x)\n",
        "        x = self.bn(x)\n",
        "        x = self.re(x)\n",
        "        x = self.co2(x)\n",
        "        x = self.bn(x)\n",
        "        sh = self.co(sh)\n",
        "        sh = self.bn(sh)\n",
        "        return self.re(x+sh)"
      ],
      "execution_count": 15,
      "outputs": []
    },
    {
      "cell_type": "markdown",
      "metadata": {
        "id": "tC5SBFBY2cnG"
      },
      "source": [
        "This is a resNet model based on the paper:\n",
        "https://arxiv.org/abs/1512.03385\n",
        "\n",
        "It has some additional `Dropout` layers to obtain a better accuracy on test data, rather than without the layers."
      ]
    },
    {
      "cell_type": "code",
      "metadata": {
        "id": "DDzMBLGSgHuQ"
      },
      "source": [
        "class resNet(tf.keras.Model):\n",
        "    def __init__(self):\n",
        "        super(resNet, self).__init__()\n",
        "        self.co1 = layers.Conv2D(64, (7, 7), strides=(2, 2), padding='same')\n",
        "        self.mp1 = layers.MaxPooling2D(2, 2)\n",
        "\n",
        "        self.ri1 = resId(filters=64, kerSize=3)\n",
        "        self.rs1 = resSh(filters=128, kerSize=3, stride=(2, 2))\n",
        "        self.ri2 = resId(filters=128, kerSize=3)\n",
        "        self.rs2 = resSh(filters=256, kerSize=3, stride=(2, 2))\n",
        "        self.ri3 = resId(filters=256, kerSize=3)\n",
        "        self.rs3 = resSh(filters=512, kerSize=3, stride=(2, 2))\n",
        "        self.ri4 = resId(filters=512, kerSize=3)\n",
        "\n",
        "        self.gap = layers.GlobalAveragePooling2D()\n",
        "        self.end = layers.Dense(10, activation=\"softmax\")\n",
        "\n",
        "    def call(self, inp):\n",
        "        x = inp\n",
        "        x = self.co1(x)\n",
        "        x = self.mp1(x)\n",
        "        for i in range(3):\n",
        "            x = self.ri1(x)\n",
        "        x = self.rs1(x)\n",
        "        x = layers.Dropout(0.25)(x)\n",
        "        for i in range(3):\n",
        "            x = self.ri2(x)\n",
        "        x = self.rs2(x)\n",
        "        x = layers.Dropout(0.25)(x)\n",
        "        for i in range(5):\n",
        "            x = self.ri3(x)\n",
        "        x = self.rs3(x)\n",
        "        x = layers.Dropout(0.2)(x)\n",
        "        x = self.ri4(x)\n",
        "        x = self.ri4(x)\n",
        "\n",
        "        x = self.gap(x)\n",
        "        x = self.end(x)\n",
        "        return(x)\n"
      ],
      "execution_count": 16,
      "outputs": []
    },
    {
      "cell_type": "code",
      "metadata": {
        "id": "sQeiUeibjE9a"
      },
      "source": [
        "model = resNet()\n",
        "model.compile(  optimizer = tf.keras.optimizers.Adam() ,\n",
        "                loss = 'sparse_categorical_crossentropy',\n",
        "                metrics = ['accuracy'])"
      ],
      "execution_count": 17,
      "outputs": []
    },
    {
      "cell_type": "code",
      "metadata": {
        "colab": {
          "base_uri": "https://localhost:8080/"
        },
        "id": "iZpkonhdjUik",
        "outputId": "67c6d2d4-daf9-4b98-e231-621220475c8f"
      },
      "source": [
        "model.fit(trainIm, trainLab, epochs=100, callbacks=[cb])"
      ],
      "execution_count": 18,
      "outputs": [
        {
          "output_type": "stream",
          "text": [
            "Epoch 1/100\n",
            "1563/1563 [==============================] - 54s 33ms/step - loss: 1.8192 - accuracy: 0.3764\n",
            "Epoch 2/100\n",
            "1563/1563 [==============================] - 51s 33ms/step - loss: 1.4478 - accuracy: 0.4963\n",
            "Epoch 3/100\n",
            "1563/1563 [==============================] - 51s 33ms/step - loss: 1.2691 - accuracy: 0.5597\n",
            "Epoch 4/100\n",
            "1563/1563 [==============================] - 51s 33ms/step - loss: 1.1570 - accuracy: 0.6017\n",
            "Epoch 5/100\n",
            "1563/1563 [==============================] - 51s 33ms/step - loss: 1.0853 - accuracy: 0.6265\n",
            "Epoch 6/100\n",
            "1563/1563 [==============================] - 51s 33ms/step - loss: 0.9890 - accuracy: 0.6602\n",
            "Epoch 7/100\n",
            "1563/1563 [==============================] - 51s 33ms/step - loss: 0.9525 - accuracy: 0.6741\n",
            "Epoch 8/100\n",
            "1563/1563 [==============================] - 51s 33ms/step - loss: 0.9182 - accuracy: 0.6875\n",
            "Epoch 9/100\n",
            "1563/1563 [==============================] - 51s 33ms/step - loss: 0.8264 - accuracy: 0.7177\n",
            "Epoch 10/100\n",
            "1563/1563 [==============================] - 51s 33ms/step - loss: 0.7673 - accuracy: 0.7361\n",
            "Epoch 11/100\n",
            "1563/1563 [==============================] - 51s 33ms/step - loss: 0.7575 - accuracy: 0.7445\n",
            "Epoch 12/100\n",
            "1563/1563 [==============================] - 51s 32ms/step - loss: 0.7131 - accuracy: 0.7563\n",
            "Epoch 13/100\n",
            "1563/1563 [==============================] - 51s 32ms/step - loss: 0.7275 - accuracy: 0.7518\n",
            "Epoch 14/100\n",
            "1563/1563 [==============================] - 51s 32ms/step - loss: 0.6436 - accuracy: 0.7788\n",
            "Epoch 15/100\n",
            "1563/1563 [==============================] - 51s 32ms/step - loss: 0.6178 - accuracy: 0.7870\n",
            "Epoch 16/100\n",
            "1563/1563 [==============================] - 51s 32ms/step - loss: 0.6565 - accuracy: 0.7757\n",
            "Epoch 17/100\n",
            "1563/1563 [==============================] - 51s 32ms/step - loss: 0.5470 - accuracy: 0.8116\n",
            "Epoch 18/100\n",
            "1563/1563 [==============================] - 51s 32ms/step - loss: 0.5437 - accuracy: 0.8134\n",
            "Epoch 19/100\n",
            "1563/1563 [==============================] - 51s 32ms/step - loss: 0.5327 - accuracy: 0.8184\n",
            "Epoch 20/100\n",
            "1563/1563 [==============================] - 51s 32ms/step - loss: 0.5153 - accuracy: 0.8210\n",
            "Epoch 21/100\n",
            "1563/1563 [==============================] - 51s 32ms/step - loss: 0.4544 - accuracy: 0.8415\n",
            "Epoch 22/100\n",
            "1563/1563 [==============================] - 51s 32ms/step - loss: 0.4657 - accuracy: 0.8384\n",
            "Epoch 23/100\n",
            "1563/1563 [==============================] - 51s 32ms/step - loss: 0.3988 - accuracy: 0.8608\n",
            "Epoch 24/100\n",
            "1563/1563 [==============================] - 51s 32ms/step - loss: 0.3963 - accuracy: 0.8644\n",
            "Epoch 25/100\n",
            "1563/1563 [==============================] - 51s 32ms/step - loss: 0.4019 - accuracy: 0.8614\n",
            "Epoch 26/100\n",
            "1563/1563 [==============================] - 51s 32ms/step - loss: 0.3703 - accuracy: 0.8713\n",
            "Epoch 27/100\n",
            "1563/1563 [==============================] - 51s 32ms/step - loss: 0.3187 - accuracy: 0.8891\n",
            "Epoch 28/100\n",
            "1563/1563 [==============================] - 51s 32ms/step - loss: 0.3101 - accuracy: 0.8905\n",
            "Epoch 29/100\n",
            "1563/1563 [==============================] - 51s 32ms/step - loss: 0.3199 - accuracy: 0.8889\n",
            "Epoch 30/100\n",
            "1563/1563 [==============================] - 51s 32ms/step - loss: 0.2703 - accuracy: 0.9026\n",
            "Epoch 31/100\n",
            "1563/1563 [==============================] - 51s 32ms/step - loss: 0.2612 - accuracy: 0.9085\n",
            "Epoch 32/100\n",
            "1563/1563 [==============================] - 51s 32ms/step - loss: 0.2447 - accuracy: 0.9139\n",
            "Epoch 33/100\n",
            "1563/1563 [==============================] - 51s 33ms/step - loss: 0.2310 - accuracy: 0.9182\n",
            "Epoch 34/100\n",
            "1563/1563 [==============================] - 51s 32ms/step - loss: 0.2693 - accuracy: 0.9084\n",
            "Epoch 35/100\n",
            "1563/1563 [==============================] - 51s 33ms/step - loss: 0.2133 - accuracy: 0.9242\n",
            "Epoch 36/100\n",
            "1563/1563 [==============================] - 51s 32ms/step - loss: 0.2038 - accuracy: 0.9281\n",
            "Epoch 37/100\n",
            "1563/1563 [==============================] - 51s 32ms/step - loss: 0.1923 - accuracy: 0.9327\n",
            "Epoch 38/100\n",
            "1563/1563 [==============================] - 51s 32ms/step - loss: 0.2186 - accuracy: 0.9246\n",
            "Epoch 39/100\n",
            "1563/1563 [==============================] - 51s 33ms/step - loss: 0.2608 - accuracy: 0.9096\n",
            "Epoch 40/100\n",
            "1563/1563 [==============================] - 51s 32ms/step - loss: 0.1871 - accuracy: 0.9352\n",
            "Epoch 41/100\n",
            "1563/1563 [==============================] - 51s 33ms/step - loss: 0.1994 - accuracy: 0.9308\n",
            "Epoch 42/100\n",
            "1563/1563 [==============================] - 51s 33ms/step - loss: 0.1686 - accuracy: 0.9408\n",
            "Epoch 43/100\n",
            "1563/1563 [==============================] - 51s 32ms/step - loss: 0.1565 - accuracy: 0.9468\n",
            "Epoch 44/100\n",
            "1563/1563 [==============================] - 51s 33ms/step - loss: 0.2457 - accuracy: 0.9177\n",
            "Epoch 45/100\n",
            "1563/1563 [==============================] - 51s 32ms/step - loss: 0.1435 - accuracy: 0.9504\n",
            "Epoch 46/100\n",
            "1563/1563 [==============================] - 51s 33ms/step - loss: 0.1380 - accuracy: 0.9521\n",
            "Epoch 47/100\n",
            "1563/1563 [==============================] - 51s 33ms/step - loss: 0.1452 - accuracy: 0.9490\n",
            "Epoch 48/100\n",
            "1563/1563 [==============================] - 51s 33ms/step - loss: 0.1361 - accuracy: 0.9531\n",
            "Epoch 49/100\n",
            "1563/1563 [==============================] - 51s 32ms/step - loss: 0.1318 - accuracy: 0.9525\n",
            "Epoch 50/100\n",
            "1563/1563 [==============================] - 51s 33ms/step - loss: 0.1664 - accuracy: 0.9441\n",
            "Epoch 51/100\n",
            "1563/1563 [==============================] - 51s 33ms/step - loss: 0.1183 - accuracy: 0.9587\n",
            "Epoch 52/100\n",
            "1563/1563 [==============================] - 51s 33ms/step - loss: 0.1217 - accuracy: 0.9571\n",
            "Epoch 53/100\n",
            "1563/1563 [==============================] - 51s 33ms/step - loss: 0.1172 - accuracy: 0.9589\n",
            "Epoch 54/100\n",
            "1563/1563 [==============================] - 51s 32ms/step - loss: 0.1165 - accuracy: 0.9601\n",
            "Epoch 55/100\n",
            "1563/1563 [==============================] - 51s 32ms/step - loss: 0.1157 - accuracy: 0.9593\n",
            "Epoch 56/100\n",
            "1563/1563 [==============================] - 51s 33ms/step - loss: 0.1128 - accuracy: 0.9612\n",
            "Epoch 57/100\n",
            "1563/1563 [==============================] - 51s 33ms/step - loss: 0.1188 - accuracy: 0.9588\n",
            "Epoch 58/100\n",
            "1563/1563 [==============================] - 51s 32ms/step - loss: 0.1046 - accuracy: 0.9644\n",
            "Epoch 59/100\n",
            "1563/1563 [==============================] - 51s 32ms/step - loss: 0.1049 - accuracy: 0.9640\n",
            "Epoch 60/100\n",
            "1563/1563 [==============================] - 51s 32ms/step - loss: 0.1007 - accuracy: 0.9654\n",
            "Epoch 61/100\n",
            "1563/1563 [==============================] - 51s 32ms/step - loss: 0.1006 - accuracy: 0.9655\n",
            "Epoch 62/100\n",
            "1563/1563 [==============================] - 51s 33ms/step - loss: 0.0953 - accuracy: 0.9661\n",
            "Epoch 63/100\n",
            "1563/1563 [==============================] - 51s 33ms/step - loss: 0.0998 - accuracy: 0.9652\n",
            "Epoch 64/100\n",
            "1563/1563 [==============================] - 51s 33ms/step - loss: 0.0913 - accuracy: 0.9683\n",
            "Epoch 65/100\n",
            "1563/1563 [==============================] - 51s 33ms/step - loss: 0.0882 - accuracy: 0.9696\n",
            "Epoch 66/100\n",
            "1563/1563 [==============================] - 51s 32ms/step - loss: 0.1045 - accuracy: 0.9642\n",
            "Epoch 67/100\n",
            "1563/1563 [==============================] - 51s 33ms/step - loss: 0.0846 - accuracy: 0.9705\n",
            "Epoch 68/100\n",
            "1563/1563 [==============================] - 51s 32ms/step - loss: 0.0827 - accuracy: 0.9711\n",
            "Epoch 69/100\n",
            "1563/1563 [==============================] - 51s 33ms/step - loss: 0.0831 - accuracy: 0.9702\n",
            "Epoch 70/100\n",
            "1563/1563 [==============================] - 51s 33ms/step - loss: 0.0810 - accuracy: 0.9727\n",
            "Epoch 71/100\n",
            "1563/1563 [==============================] - 51s 32ms/step - loss: 0.0825 - accuracy: 0.9722\n",
            "Epoch 72/100\n",
            "1563/1563 [==============================] - 51s 33ms/step - loss: 0.0886 - accuracy: 0.9686\n",
            "Epoch 73/100\n",
            "1563/1563 [==============================] - 51s 33ms/step - loss: 0.0847 - accuracy: 0.9716\n",
            "Epoch 74/100\n",
            "1563/1563 [==============================] - 51s 33ms/step - loss: 0.0731 - accuracy: 0.9753\n",
            "Epoch 75/100\n",
            "1563/1563 [==============================] - 51s 33ms/step - loss: 0.0752 - accuracy: 0.9740\n",
            "Epoch 76/100\n",
            "1563/1563 [==============================] - 51s 32ms/step - loss: 0.0769 - accuracy: 0.9740\n",
            "Epoch 77/100\n",
            "1563/1563 [==============================] - 51s 33ms/step - loss: 0.0719 - accuracy: 0.9749\n",
            "Epoch 78/100\n",
            "1563/1563 [==============================] - 51s 33ms/step - loss: 0.0773 - accuracy: 0.9740\n",
            "Epoch 79/100\n",
            "1563/1563 [==============================] - 51s 32ms/step - loss: 0.0683 - accuracy: 0.9766\n",
            "Epoch 80/100\n",
            "1563/1563 [==============================] - 51s 33ms/step - loss: 0.0720 - accuracy: 0.9759\n",
            "Epoch 81/100\n",
            "1563/1563 [==============================] - 51s 33ms/step - loss: 0.0768 - accuracy: 0.9737\n",
            "Epoch 82/100\n",
            "1563/1563 [==============================] - 51s 33ms/step - loss: 0.0645 - accuracy: 0.9782\n",
            "Epoch 83/100\n",
            "1563/1563 [==============================] - 51s 33ms/step - loss: 0.0693 - accuracy: 0.9761\n",
            "Epoch 84/100\n",
            "1563/1563 [==============================] - 51s 33ms/step - loss: 0.0683 - accuracy: 0.9771\n",
            "Epoch 85/100\n",
            "1563/1563 [==============================] - 51s 33ms/step - loss: 0.0674 - accuracy: 0.9769\n",
            "Epoch 86/100\n",
            "1563/1563 [==============================] - 51s 32ms/step - loss: 0.0637 - accuracy: 0.9781\n",
            "Epoch 87/100\n",
            "1563/1563 [==============================] - 51s 33ms/step - loss: 0.0615 - accuracy: 0.9788\n",
            "Epoch 88/100\n",
            "1563/1563 [==============================] - 51s 32ms/step - loss: 0.0662 - accuracy: 0.9776\n",
            "Epoch 89/100\n",
            "1563/1563 [==============================] - 51s 32ms/step - loss: 0.0626 - accuracy: 0.9790\n",
            "Epoch 90/100\n",
            "1563/1563 [==============================] - 51s 32ms/step - loss: 0.0630 - accuracy: 0.9784\n",
            "Epoch 91/100\n",
            "1563/1563 [==============================] - 51s 32ms/step - loss: 0.0585 - accuracy: 0.9801\n",
            "Epoch 92/100\n",
            "1563/1563 [==============================] - 51s 32ms/step - loss: 0.0603 - accuracy: 0.9794\n",
            "Epoch 93/100\n",
            "1563/1563 [==============================] - 51s 32ms/step - loss: 0.0655 - accuracy: 0.9779\n",
            "Epoch 94/100\n",
            "1563/1563 [==============================] - 51s 33ms/step - loss: 0.0638 - accuracy: 0.9785\n",
            "Epoch 95/100\n",
            "1563/1563 [==============================] - 51s 33ms/step - loss: 0.0552 - accuracy: 0.9815\n",
            "Epoch 96/100\n",
            "1563/1563 [==============================] - 51s 32ms/step - loss: 0.0702 - accuracy: 0.9772\n",
            "Epoch 97/100\n",
            "1563/1563 [==============================] - 51s 32ms/step - loss: 0.0523 - accuracy: 0.9819\n",
            "Epoch 98/100\n",
            "1563/1563 [==============================] - 51s 33ms/step - loss: 0.0616 - accuracy: 0.9794\n",
            "Epoch 99/100\n",
            "1563/1563 [==============================] - 51s 32ms/step - loss: 0.0501 - accuracy: 0.9825\n",
            "Epoch 100/100\n",
            "1563/1563 [==============================] - 51s 32ms/step - loss: 0.0562 - accuracy: 0.9806\n"
          ],
          "name": "stdout"
        },
        {
          "output_type": "execute_result",
          "data": {
            "text/plain": [
              "<tensorflow.python.keras.callbacks.History at 0x7f7dc84a4c90>"
            ]
          },
          "metadata": {
            "tags": []
          },
          "execution_count": 18
        }
      ]
    },
    {
      "cell_type": "code",
      "metadata": {
        "id": "sEMkAkbnjcBl",
        "colab": {
          "base_uri": "https://localhost:8080/"
        },
        "outputId": "f82a2e18-333b-421a-9b95-4b385117a9d9"
      },
      "source": [
        "model.evaluate(testIm, testLab)"
      ],
      "execution_count": 20,
      "outputs": [
        {
          "output_type": "stream",
          "text": [
            "313/313 [==============================] - 4s 12ms/step - loss: 2.5060 - accuracy: 0.1987\n"
          ],
          "name": "stdout"
        },
        {
          "output_type": "execute_result",
          "data": {
            "text/plain": [
              "[2.505959987640381, 0.19869999587535858]"
            ]
          },
          "metadata": {
            "tags": []
          },
          "execution_count": 20
        }
      ]
    },
    {
      "cell_type": "code",
      "metadata": {
        "id": "DwJE6uLGjmGd"
      },
      "source": [
        ""
      ],
      "execution_count": null,
      "outputs": []
    }
  ]
}